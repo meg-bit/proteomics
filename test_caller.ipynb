{
 "cells": [
  {
   "cell_type": "code",
   "execution_count": 6,
   "id": "72c78b28",
   "metadata": {},
   "outputs": [],
   "source": [
    "# install.packages(\"RMariaDB\")"
   ]
  },
  {
   "cell_type": "code",
   "execution_count": 5,
   "id": "8f4ad9a5",
   "metadata": {},
   "outputs": [],
   "source": [
    "require('RMariaDB', quietly = T)"
   ]
  },
  {
   "cell_type": "code",
   "execution_count": 8,
   "id": "c0395540",
   "metadata": {},
   "outputs": [
    {
     "ename": "ERROR",
     "evalue": "Error in dbReadTable(sanctumdbcon, name = clin_table): object 'clin_table' not found\n",
     "output_type": "error",
     "traceback": [
      "Error in dbReadTable(sanctumdbcon, name = clin_table): object 'clin_table' not found\nTraceback:\n",
      "1. dbReadTable(sanctumdbcon, name = clin_table)"
     ]
    }
   ],
   "source": [
    "# Read the meta data\n",
    "sanctumdbcon <- RMariaDB::dbConnect(\n",
    "    drv = RMariaDB::MariaDB(),\n",
    "    dbname = \"Devdb\",\n",
    "    user = \"admin\",\n",
    "    password = \"JohnLennon1980\",\n",
    "    host = \"sanctum-instance-1.cnklj0yzvfnv.us-east-1.rds.amazonaws.com\",\n",
    "    port = 3306\n",
    "  )\n",
    "clin_data <- dbReadTable(sanctumdbcon, name = clin_table)\n",
    "dbDisconnect(sanctumdbcon)"
   ]
  },
  {
   "cell_type": "code",
   "execution_count": null,
   "id": "124728e5",
   "metadata": {},
   "outputs": [],
   "source": [
    "clin_data <- dcast(subset(clin_data, !is.na(key)), \n",
    "                 formula = model_id ~ key,\n",
    "                 fun.aggregate = max) %>%\n",
    "subset(., Model %in% colnames(counts)) # keep metadata for relavant samples\n",
    "\n",
    "colnames(clin_data) <- gsub('..via.TruSight.clinical.', '', colnames(clin_data))\n",
    "clin_data[] <- lapply(clin_data, toupper)\n",
    "clin_data[clin_data==\"PENDING\" | clin_data==\"NOT AVAILABLE\" | clin_data==\"OTHER\" ] <- NA\n",
    "clin_data[] <- lapply(clin_data, function(x) gsub(\"DIFFERENTIATED\", \"DIFF.\", x))\n",
    "clin_data[] <- lapply(clin_data, function(x) gsub(\"SQUAMOUS CELL\", \"SC\", x))\n",
    "# remove (largely) empty columns \n",
    "clin_data <- clin_data[apply(clin_data, 2, function(x) sum(is.na(x)) < nrow(clin_data)/2)]\n",
    "# identify numeric columns\n",
    "clin_data <- retype(clin_data)"
   ]
  }
 ],
 "metadata": {
  "kernelspec": {
   "display_name": "R",
   "language": "R",
   "name": "ir"
  },
  "language_info": {
   "codemirror_mode": "r",
   "file_extension": ".r",
   "mimetype": "text/x-r-source",
   "name": "R",
   "pygments_lexer": "r",
   "version": "3.6.1"
  }
 },
 "nbformat": 4,
 "nbformat_minor": 5
}
