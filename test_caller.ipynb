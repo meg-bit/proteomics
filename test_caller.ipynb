{
 "cells": [
  {
   "cell_type": "code",
   "execution_count": 2,
   "id": "8f4ad9a5",
   "metadata": {},
   "outputs": [],
   "source": [
    "suppressPackageStartupMessages(library(dplyr))\n",
    "suppressPackageStartupMessages(library(data.table))\n",
    "suppressPackageStartupMessages(library(parallel))\n",
    "suppressPackageStartupMessages(library(reshape2))\n",
    "suppressPackageStartupMessages(library(DBI))\n",
    "suppressPackageStartupMessages(library(parallel))\n",
    "suppressPackageStartupMessages(library(foreach))\n",
    "suppressPackageStartupMessages(library(tidyr))\n",
    "suppressPackageStartupMessages(library(tibble))\n",
    "suppressPackageStartupMessages(library(ggplot2))"
   ]
  },
  {
   "cell_type": "code",
   "execution_count": 1,
   "id": "c0395540",
   "metadata": {},
   "outputs": [],
   "source": [
    "# # Read the meta data\n",
    "# clin_table <- \"models_clinical_2020-01-14\"\n",
    "# sanctumdbcon <- RMariaDB::dbConnect(\n",
    "#     drv = RMariaDB::MariaDB(),\n",
    "#     dbname = \"Devdb\",\n",
    "#     user = \"admin\",\n",
    "#     password = \"JohnLennon1980\",\n",
    "#     host = \"sanctum-instance-1.cnklj0yzvfnv.us-east-1.rds.amazonaws.com\",\n",
    "#     port = 3306\n",
    "#   )\n",
    "# clin_data <- dbReadTable(sanctumdbcon, name = clin_table)\n",
    "# dbDisconnect(sanctumdbcon)"
   ]
  },
  {
   "cell_type": "code",
   "execution_count": 2,
   "id": "693e2dc4",
   "metadata": {},
   "outputs": [],
   "source": [
    "# clin_data"
   ]
  },
  {
   "cell_type": "code",
   "execution_count": 9,
   "id": "124728e5",
   "metadata": {},
   "outputs": [],
   "source": [
    "# clin_data <- dcast(subset(clin_data, !is.na(key)), \n",
    "#                  formula = model_id ~ key,\n",
    "#                  fun.aggregate = max) %>%\n",
    "# subset(., Model %in% colnames(counts)) # keep metadata for relavant samples\n",
    "\n",
    "# colnames(clin_data) <- gsub('..via.TruSight.clinical.', '', colnames(clin_data))\n",
    "# clin_data[] <- lapply(clin_data, toupper)\n",
    "# clin_data[clin_data==\"PENDING\" | clin_data==\"NOT AVAILABLE\" | clin_data==\"OTHER\" ] <- NA\n",
    "# clin_data[] <- lapply(clin_data, function(x) gsub(\"DIFFERENTIATED\", \"DIFF.\", x))\n",
    "# clin_data[] <- lapply(clin_data, function(x) gsub(\"SQUAMOUS CELL\", \"SC\", x))\n",
    "# # remove (largely) empty columns \n",
    "# clin_data <- clin_data[apply(clin_data, 2, function(x) sum(is.na(x)) < nrow(clin_data)/2)]\n",
    "# # identify numeric columns\n",
    "# clin_data <- retype(clin_data)"
   ]
  },
  {
   "cell_type": "markdown",
   "id": "5dd221d7",
   "metadata": {},
   "source": [
    "### Proteomics data"
   ]
  },
  {
   "cell_type": "code",
   "execution_count": 13,
   "id": "a4968c9c",
   "metadata": {},
   "outputs": [
    {
     "data": {
      "text/html": [
       "<table>\n",
       "<thead><tr><th scope=col>X</th><th scope=col>ProteinGroupId</th><th scope=col>ProteinGroup</th><th scope=col>Protein</th><th scope=col>SingleProtein</th><th scope=col>Sample</th><th scope=col>Intensity</th><th scope=col>Counts</th><th scope=col>ProteinGroupName</th><th scope=col>hgnc_symbol</th></tr></thead>\n",
       "<tbody>\n",
       "\t<tr><td>1                                              </td><td>A0A075B759                                     </td><td>sp|A0A075B759|PAL4E_HUMAN;sp|F5H284|PAL4D_HUMAN</td><td>sp|A0A075B759|PAL4E_HUMAN                      </td><td>sp|A0A075B759|PAL4E_HUMAN                      </td><td>CTG-2226                                       </td><td>17.225                                         </td><td>153194                                         </td><td>PAL4E_HUMAN                                    </td><td>PPIAL4E                                        </td></tr>\n",
       "\t<tr><td>2                                              </td><td>A0A075B759                                     </td><td>sp|A0A075B759|PAL4E_HUMAN;sp|F5H284|PAL4D_HUMAN</td><td>sp|A0A075B759|PAL4E_HUMAN                      </td><td>sp|A0A075B759|PAL4E_HUMAN                      </td><td>CTG-2227                                       </td><td>18.070                                         </td><td>275177                                         </td><td>PAL4E_HUMAN                                    </td><td>PPIAL4E                                        </td></tr>\n",
       "</tbody>\n",
       "</table>\n"
      ],
      "text/latex": [
       "\\begin{tabular}{r|llllllllll}\n",
       " X & ProteinGroupId & ProteinGroup & Protein & SingleProtein & Sample & Intensity & Counts & ProteinGroupName & hgnc\\_symbol\\\\\n",
       "\\hline\n",
       "\t 1                                                                                           & A0A075B759                                                                                  & sp\\textbar{}A0A075B759\\textbar{}PAL4E\\_HUMAN;sp\\textbar{}F5H284\\textbar{}PAL4D\\_HUMAN & sp\\textbar{}A0A075B759\\textbar{}PAL4E\\_HUMAN                                             & sp\\textbar{}A0A075B759\\textbar{}PAL4E\\_HUMAN                                             & CTG-2226                                                                                    & 17.225                                                                                      & 153194                                                                                      & PAL4E\\_HUMAN                                                                               & PPIAL4E                                                                                    \\\\\n",
       "\t 2                                                                                           & A0A075B759                                                                                  & sp\\textbar{}A0A075B759\\textbar{}PAL4E\\_HUMAN;sp\\textbar{}F5H284\\textbar{}PAL4D\\_HUMAN & sp\\textbar{}A0A075B759\\textbar{}PAL4E\\_HUMAN                                             & sp\\textbar{}A0A075B759\\textbar{}PAL4E\\_HUMAN                                             & CTG-2227                                                                                    & 18.070                                                                                      & 275177                                                                                      & PAL4E\\_HUMAN                                                                               & PPIAL4E                                                                                    \\\\\n",
       "\\end{tabular}\n"
      ],
      "text/markdown": [
       "\n",
       "| X | ProteinGroupId | ProteinGroup | Protein | SingleProtein | Sample | Intensity | Counts | ProteinGroupName | hgnc_symbol |\n",
       "|---|---|---|---|---|---|---|---|---|---|\n",
       "| 1                                               | A0A075B759                                      | sp|A0A075B759|PAL4E_HUMAN;sp|F5H284|PAL4D_HUMAN | sp|A0A075B759|PAL4E_HUMAN                       | sp|A0A075B759|PAL4E_HUMAN                       | CTG-2226                                        | 17.225                                          | 153194                                          | PAL4E_HUMAN                                     | PPIAL4E                                         |\n",
       "| 2                                               | A0A075B759                                      | sp|A0A075B759|PAL4E_HUMAN;sp|F5H284|PAL4D_HUMAN | sp|A0A075B759|PAL4E_HUMAN                       | sp|A0A075B759|PAL4E_HUMAN                       | CTG-2227                                        | 18.070                                          | 275177                                          | PAL4E_HUMAN                                     | PPIAL4E                                         |\n",
       "\n"
      ],
      "text/plain": [
       "  X ProteinGroupId ProteinGroup                                   \n",
       "1 1 A0A075B759     sp|A0A075B759|PAL4E_HUMAN;sp|F5H284|PAL4D_HUMAN\n",
       "2 2 A0A075B759     sp|A0A075B759|PAL4E_HUMAN;sp|F5H284|PAL4D_HUMAN\n",
       "  Protein                   SingleProtein             Sample   Intensity Counts\n",
       "1 sp|A0A075B759|PAL4E_HUMAN sp|A0A075B759|PAL4E_HUMAN CTG-2226 17.225    153194\n",
       "2 sp|A0A075B759|PAL4E_HUMAN sp|A0A075B759|PAL4E_HUMAN CTG-2227 18.070    275177\n",
       "  ProteinGroupName hgnc_symbol\n",
       "1 PAL4E_HUMAN      PPIAL4E    \n",
       "2 PAL4E_HUMAN      PPIAL4E    "
      ]
     },
     "metadata": {},
     "output_type": "display_data"
    }
   ],
   "source": [
    "counts  <- read.csv(\"./data/Prot_Data_F20FTSUSAT1137_47AML_2021-03-29.csv\")\n",
    "head(counts, 2)"
   ]
  },
  {
   "cell_type": "code",
   "execution_count": 14,
   "id": "3a1447d3",
   "metadata": {},
   "outputs": [],
   "source": [
    "### Missingness, filtering and imputation ###\n",
    "NAs_persamp <- sapply(Filter(is.numeric, counts), function(x) sum(is.na(x)))\n",
    "# NAs_perfeature <- rowSums(is.na(Filter(is.numeric, counts)))\n",
    "# prcntNAs_persamp <- round(NAs_persamp/length(NAs_perfeature)*100, 1)\n",
    "# prcntNAs_perfeature <- round(NAs_perfeature/length(NAs_persamp)*100, 1)"
   ]
  },
  {
   "cell_type": "code",
   "execution_count": 15,
   "id": "caee0698",
   "metadata": {},
   "outputs": [
    {
     "data": {
      "text/html": [
       "<dl class=dl-horizontal>\n",
       "\t<dt>X</dt>\n",
       "\t\t<dd>0</dd>\n",
       "\t<dt>Intensity</dt>\n",
       "\t\t<dd>0</dd>\n",
       "\t<dt>Counts</dt>\n",
       "\t\t<dd>0</dd>\n",
       "</dl>\n"
      ],
      "text/latex": [
       "\\begin{description*}\n",
       "\\item[X] 0\n",
       "\\item[Intensity] 0\n",
       "\\item[Counts] 0\n",
       "\\end{description*}\n"
      ],
      "text/markdown": [
       "X\n",
       ":   0Intensity\n",
       ":   0Counts\n",
       ":   0\n",
       "\n"
      ],
      "text/plain": [
       "        X Intensity    Counts \n",
       "        0         0         0 "
      ]
     },
     "metadata": {},
     "output_type": "display_data"
    }
   ],
   "source": [
    "NAs_persamp"
   ]
  },
  {
   "cell_type": "markdown",
   "id": "6fda8335",
   "metadata": {},
   "source": [
    "### From Art"
   ]
  },
  {
   "cell_type": "code",
   "execution_count": 3,
   "id": "f0d7b507",
   "metadata": {},
   "outputs": [
    {
     "data": {
      "text/html": [
       "<table>\n",
       "<thead><tr><th scope=col>id</th><th scope=col>Protein</th><th scope=col>ProteinGroup</th><th scope=col>ProteinGroupName</th><th scope=col>ProteinGroupId</th><th scope=col>Organism</th><th scope=col>Sample</th><th scope=col>Intensity</th><th scope=col>counts</th><th scope=col>hgnc_symbol</th></tr></thead>\n",
       "<tbody>\n",
       "\t<tr><td>45243                    </td><td>sp|A0A087WV62|TVB16_HUMAN</td><td>sp|A0A087WV62|TVB16_HUMAN</td><td>TVB16_HUMAN              </td><td>A0A087WV62               </td><td>NULL                     </td><td>CTG-0158                 </td><td>15.503                   </td><td>NULL                     </td><td>NULL                     </td></tr>\n",
       "\t<tr><td>45244                    </td><td>sp|A0A087WV62|TVB16_HUMAN</td><td>sp|A0A087WV62|TVB16_HUMAN</td><td>TVB16_HUMAN              </td><td>A0A087WV62               </td><td>NULL                     </td><td>CTG-0159                 </td><td>14.932                   </td><td>NULL                     </td><td>NULL                     </td></tr>\n",
       "\t<tr><td>45245                    </td><td>sp|A0A087WV62|TVB16_HUMAN</td><td>sp|A0A087WV62|TVB16_HUMAN</td><td>TVB16_HUMAN              </td><td>A0A087WV62               </td><td>NULL                     </td><td>CTG-0160                 </td><td>14.791                   </td><td>NULL                     </td><td>NULL                     </td></tr>\n",
       "\t<tr><td>45246                    </td><td>sp|A0A087WV62|TVB16_HUMAN</td><td>sp|A0A087WV62|TVB16_HUMAN</td><td>TVB16_HUMAN              </td><td>A0A087WV62               </td><td>NULL                     </td><td>CTG-0162                 </td><td>15.616                   </td><td>NULL                     </td><td>NULL                     </td></tr>\n",
       "\t<tr><td>45247                    </td><td>sp|A0A087WV62|TVB16_HUMAN</td><td>sp|A0A087WV62|TVB16_HUMAN</td><td>TVB16_HUMAN              </td><td>A0A087WV62               </td><td>NULL                     </td><td>CTG-0163                 </td><td>15.860                   </td><td>NULL                     </td><td>NULL                     </td></tr>\n",
       "\t<tr><td>45248                    </td><td>sp|A0A087WV62|TVB16_HUMAN</td><td>sp|A0A087WV62|TVB16_HUMAN</td><td>TVB16_HUMAN              </td><td>A0A087WV62               </td><td>NULL                     </td><td>CTG-0166                 </td><td>15.620                   </td><td>NULL                     </td><td>NULL                     </td></tr>\n",
       "\t<tr><td>45249                    </td><td>sp|A0A087WV62|TVB16_HUMAN</td><td>sp|A0A087WV62|TVB16_HUMAN</td><td>TVB16_HUMAN              </td><td>A0A087WV62               </td><td>NULL                     </td><td>CTG-0167                 </td><td>14.404                   </td><td>NULL                     </td><td>NULL                     </td></tr>\n",
       "\t<tr><td>45250                    </td><td>sp|A0A087WV62|TVB16_HUMAN</td><td>sp|A0A087WV62|TVB16_HUMAN</td><td>TVB16_HUMAN              </td><td>A0A087WV62               </td><td>NULL                     </td><td>CTG-0178                 </td><td>17.208                   </td><td>NULL                     </td><td>NULL                     </td></tr>\n",
       "\t<tr><td>45251                    </td><td>sp|A0A087WV62|TVB16_HUMAN</td><td>sp|A0A087WV62|TVB16_HUMAN</td><td>TVB16_HUMAN              </td><td>A0A087WV62               </td><td>NULL                     </td><td>CTG-0184                 </td><td>15.961                   </td><td>NULL                     </td><td>NULL                     </td></tr>\n",
       "\t<tr><td>45252                    </td><td>sp|A0A087WV62|TVB16_HUMAN</td><td>sp|A0A087WV62|TVB16_HUMAN</td><td>TVB16_HUMAN              </td><td>A0A087WV62               </td><td>NULL                     </td><td>CTG-0464                 </td><td>14.648                   </td><td>NULL                     </td><td>NULL                     </td></tr>\n",
       "</tbody>\n",
       "</table>\n"
      ],
      "text/latex": [
       "\\begin{tabular}{r|llllllllll}\n",
       " id & Protein & ProteinGroup & ProteinGroupName & ProteinGroupId & Organism & Sample & Intensity & counts & hgnc\\_symbol\\\\\n",
       "\\hline\n",
       "\t 45243                                           & sp\\textbar{}A0A087WV62\\textbar{}TVB16\\_HUMAN & sp\\textbar{}A0A087WV62\\textbar{}TVB16\\_HUMAN & TVB16\\_HUMAN                                   & A0A087WV62                                      & NULL                                            & CTG-0158                                        & 15.503                                          & NULL                                            & NULL                                           \\\\\n",
       "\t 45244                                           & sp\\textbar{}A0A087WV62\\textbar{}TVB16\\_HUMAN & sp\\textbar{}A0A087WV62\\textbar{}TVB16\\_HUMAN & TVB16\\_HUMAN                                   & A0A087WV62                                      & NULL                                            & CTG-0159                                        & 14.932                                          & NULL                                            & NULL                                           \\\\\n",
       "\t 45245                                           & sp\\textbar{}A0A087WV62\\textbar{}TVB16\\_HUMAN & sp\\textbar{}A0A087WV62\\textbar{}TVB16\\_HUMAN & TVB16\\_HUMAN                                   & A0A087WV62                                      & NULL                                            & CTG-0160                                        & 14.791                                          & NULL                                            & NULL                                           \\\\\n",
       "\t 45246                                           & sp\\textbar{}A0A087WV62\\textbar{}TVB16\\_HUMAN & sp\\textbar{}A0A087WV62\\textbar{}TVB16\\_HUMAN & TVB16\\_HUMAN                                   & A0A087WV62                                      & NULL                                            & CTG-0162                                        & 15.616                                          & NULL                                            & NULL                                           \\\\\n",
       "\t 45247                                           & sp\\textbar{}A0A087WV62\\textbar{}TVB16\\_HUMAN & sp\\textbar{}A0A087WV62\\textbar{}TVB16\\_HUMAN & TVB16\\_HUMAN                                   & A0A087WV62                                      & NULL                                            & CTG-0163                                        & 15.860                                          & NULL                                            & NULL                                           \\\\\n",
       "\t 45248                                           & sp\\textbar{}A0A087WV62\\textbar{}TVB16\\_HUMAN & sp\\textbar{}A0A087WV62\\textbar{}TVB16\\_HUMAN & TVB16\\_HUMAN                                   & A0A087WV62                                      & NULL                                            & CTG-0166                                        & 15.620                                          & NULL                                            & NULL                                           \\\\\n",
       "\t 45249                                           & sp\\textbar{}A0A087WV62\\textbar{}TVB16\\_HUMAN & sp\\textbar{}A0A087WV62\\textbar{}TVB16\\_HUMAN & TVB16\\_HUMAN                                   & A0A087WV62                                      & NULL                                            & CTG-0167                                        & 14.404                                          & NULL                                            & NULL                                           \\\\\n",
       "\t 45250                                           & sp\\textbar{}A0A087WV62\\textbar{}TVB16\\_HUMAN & sp\\textbar{}A0A087WV62\\textbar{}TVB16\\_HUMAN & TVB16\\_HUMAN                                   & A0A087WV62                                      & NULL                                            & CTG-0178                                        & 17.208                                          & NULL                                            & NULL                                           \\\\\n",
       "\t 45251                                           & sp\\textbar{}A0A087WV62\\textbar{}TVB16\\_HUMAN & sp\\textbar{}A0A087WV62\\textbar{}TVB16\\_HUMAN & TVB16\\_HUMAN                                   & A0A087WV62                                      & NULL                                            & CTG-0184                                        & 15.961                                          & NULL                                            & NULL                                           \\\\\n",
       "\t 45252                                           & sp\\textbar{}A0A087WV62\\textbar{}TVB16\\_HUMAN & sp\\textbar{}A0A087WV62\\textbar{}TVB16\\_HUMAN & TVB16\\_HUMAN                                   & A0A087WV62                                      & NULL                                            & CTG-0464                                        & 14.648                                          & NULL                                            & NULL                                           \\\\\n",
       "\\end{tabular}\n"
      ],
      "text/markdown": [
       "\n",
       "| id | Protein | ProteinGroup | ProteinGroupName | ProteinGroupId | Organism | Sample | Intensity | counts | hgnc_symbol |\n",
       "|---|---|---|---|---|---|---|---|---|---|\n",
       "| 45243                     | sp|A0A087WV62|TVB16_HUMAN | sp|A0A087WV62|TVB16_HUMAN | TVB16_HUMAN               | A0A087WV62                | NULL                      | CTG-0158                  | 15.503                    | NULL                      | NULL                      |\n",
       "| 45244                     | sp|A0A087WV62|TVB16_HUMAN | sp|A0A087WV62|TVB16_HUMAN | TVB16_HUMAN               | A0A087WV62                | NULL                      | CTG-0159                  | 14.932                    | NULL                      | NULL                      |\n",
       "| 45245                     | sp|A0A087WV62|TVB16_HUMAN | sp|A0A087WV62|TVB16_HUMAN | TVB16_HUMAN               | A0A087WV62                | NULL                      | CTG-0160                  | 14.791                    | NULL                      | NULL                      |\n",
       "| 45246                     | sp|A0A087WV62|TVB16_HUMAN | sp|A0A087WV62|TVB16_HUMAN | TVB16_HUMAN               | A0A087WV62                | NULL                      | CTG-0162                  | 15.616                    | NULL                      | NULL                      |\n",
       "| 45247                     | sp|A0A087WV62|TVB16_HUMAN | sp|A0A087WV62|TVB16_HUMAN | TVB16_HUMAN               | A0A087WV62                | NULL                      | CTG-0163                  | 15.860                    | NULL                      | NULL                      |\n",
       "| 45248                     | sp|A0A087WV62|TVB16_HUMAN | sp|A0A087WV62|TVB16_HUMAN | TVB16_HUMAN               | A0A087WV62                | NULL                      | CTG-0166                  | 15.620                    | NULL                      | NULL                      |\n",
       "| 45249                     | sp|A0A087WV62|TVB16_HUMAN | sp|A0A087WV62|TVB16_HUMAN | TVB16_HUMAN               | A0A087WV62                | NULL                      | CTG-0167                  | 14.404                    | NULL                      | NULL                      |\n",
       "| 45250                     | sp|A0A087WV62|TVB16_HUMAN | sp|A0A087WV62|TVB16_HUMAN | TVB16_HUMAN               | A0A087WV62                | NULL                      | CTG-0178                  | 17.208                    | NULL                      | NULL                      |\n",
       "| 45251                     | sp|A0A087WV62|TVB16_HUMAN | sp|A0A087WV62|TVB16_HUMAN | TVB16_HUMAN               | A0A087WV62                | NULL                      | CTG-0184                  | 15.961                    | NULL                      | NULL                      |\n",
       "| 45252                     | sp|A0A087WV62|TVB16_HUMAN | sp|A0A087WV62|TVB16_HUMAN | TVB16_HUMAN               | A0A087WV62                | NULL                      | CTG-0464                  | 14.648                    | NULL                      | NULL                      |\n",
       "\n"
      ],
      "text/plain": [
       "   id    Protein                   ProteinGroup              ProteinGroupName\n",
       "1  45243 sp|A0A087WV62|TVB16_HUMAN sp|A0A087WV62|TVB16_HUMAN TVB16_HUMAN     \n",
       "2  45244 sp|A0A087WV62|TVB16_HUMAN sp|A0A087WV62|TVB16_HUMAN TVB16_HUMAN     \n",
       "3  45245 sp|A0A087WV62|TVB16_HUMAN sp|A0A087WV62|TVB16_HUMAN TVB16_HUMAN     \n",
       "4  45246 sp|A0A087WV62|TVB16_HUMAN sp|A0A087WV62|TVB16_HUMAN TVB16_HUMAN     \n",
       "5  45247 sp|A0A087WV62|TVB16_HUMAN sp|A0A087WV62|TVB16_HUMAN TVB16_HUMAN     \n",
       "6  45248 sp|A0A087WV62|TVB16_HUMAN sp|A0A087WV62|TVB16_HUMAN TVB16_HUMAN     \n",
       "7  45249 sp|A0A087WV62|TVB16_HUMAN sp|A0A087WV62|TVB16_HUMAN TVB16_HUMAN     \n",
       "8  45250 sp|A0A087WV62|TVB16_HUMAN sp|A0A087WV62|TVB16_HUMAN TVB16_HUMAN     \n",
       "9  45251 sp|A0A087WV62|TVB16_HUMAN sp|A0A087WV62|TVB16_HUMAN TVB16_HUMAN     \n",
       "10 45252 sp|A0A087WV62|TVB16_HUMAN sp|A0A087WV62|TVB16_HUMAN TVB16_HUMAN     \n",
       "   ProteinGroupId Organism Sample   Intensity counts hgnc_symbol\n",
       "1  A0A087WV62     NULL     CTG-0158 15.503    NULL   NULL       \n",
       "2  A0A087WV62     NULL     CTG-0159 14.932    NULL   NULL       \n",
       "3  A0A087WV62     NULL     CTG-0160 14.791    NULL   NULL       \n",
       "4  A0A087WV62     NULL     CTG-0162 15.616    NULL   NULL       \n",
       "5  A0A087WV62     NULL     CTG-0163 15.860    NULL   NULL       \n",
       "6  A0A087WV62     NULL     CTG-0166 15.620    NULL   NULL       \n",
       "7  A0A087WV62     NULL     CTG-0167 14.404    NULL   NULL       \n",
       "8  A0A087WV62     NULL     CTG-0178 17.208    NULL   NULL       \n",
       "9  A0A087WV62     NULL     CTG-0184 15.961    NULL   NULL       \n",
       "10 A0A087WV62     NULL     CTG-0464 14.648    NULL   NULL       "
      ]
     },
     "metadata": {},
     "output_type": "display_data"
    }
   ],
   "source": [
    "prot_intensity <- read.csv(\"./data/Protein_intensity.csv\")\n",
    "head(prot_intensity, 10)"
   ]
  },
  {
   "cell_type": "code",
   "execution_count": 9,
   "id": "0f88959d",
   "metadata": {},
   "outputs": [
    {
     "data": {
      "text/html": [
       "-10.92784"
      ],
      "text/latex": [
       "-10.92784"
      ],
      "text/markdown": [
       "-10.92784"
      ],
      "text/plain": [
       "[1] -10.92784"
      ]
     },
     "metadata": {},
     "output_type": "display_data"
    }
   ],
   "source": [
    "min(prot_intensity$Intensity)"
   ]
  },
  {
   "cell_type": "code",
   "execution_count": 10,
   "id": "88190346",
   "metadata": {},
   "outputs": [
    {
     "data": {
      "text/html": [
       "28.306152"
      ],
      "text/latex": [
       "28.306152"
      ],
      "text/markdown": [
       "28.306152"
      ],
      "text/plain": [
       "[1] 28.30615"
      ]
     },
     "metadata": {},
     "output_type": "display_data"
    }
   ],
   "source": [
    "max(prot_intensity$Intensity)"
   ]
  },
  {
   "cell_type": "code",
   "execution_count": 16,
   "id": "b357aaa1",
   "metadata": {
    "scrolled": false
   },
   "outputs": [],
   "source": [
    "# unique(prot_intensity$counts)"
   ]
  },
  {
   "cell_type": "code",
   "execution_count": 4,
   "id": "ebe087f2",
   "metadata": {},
   "outputs": [
    {
     "data": {
      "text/html": [
       "<table>\n",
       "<thead><tr><th scope=col>id</th><th scope=col>ProteinGroupId</th><th scope=col>ProteinGroup</th><th scope=col>PhosLocation_Protein</th><th scope=col>SingleProtein</th><th scope=col>Sample</th><th scope=col>Intensity</th><th scope=col>Counts</th><th scope=col>ProteinGroupName</th><th scope=col>hgnc_symbol</th></tr></thead>\n",
       "<tbody>\n",
       "\t<tr><td> 1                       </td><td>A0A0B4J280               </td><td>sp|A0A0B4J280|TVA40_HUMAN</td><td>S85                      </td><td>sp|A0A0B4J280|TVA40_HUMAN</td><td>CTG-0464                 </td><td>10.762                   </td><td> 1737                    </td><td>TVA40_HUMAN              </td><td>TRAV40                   </td></tr>\n",
       "\t<tr><td> 2                       </td><td>A0A0B4J280               </td><td>sp|A0A0B4J280|TVA40_HUMAN</td><td>S85                      </td><td>sp|A0A0B4J280|TVA40_HUMAN</td><td>CTG-0502                 </td><td>12.949                   </td><td> 7907                    </td><td>TVA40_HUMAN              </td><td>TRAV40                   </td></tr>\n",
       "\t<tr><td> 3                       </td><td>A0A0B4J280               </td><td>sp|A0A0B4J280|TVA40_HUMAN</td><td>S85                      </td><td>sp|A0A0B4J280|TVA40_HUMAN</td><td>CTG-0838                 </td><td>11.048                   </td><td> 2117                    </td><td>TVA40_HUMAN              </td><td>TRAV40                   </td></tr>\n",
       "\t<tr><td> 4                       </td><td>A0A0B4J280               </td><td>sp|A0A0B4J280|TVA40_HUMAN</td><td>S85                      </td><td>sp|A0A0B4J280|TVA40_HUMAN</td><td>CTG-0852                 </td><td> 9.974                   </td><td> 1006                    </td><td>TVA40_HUMAN              </td><td>TRAV40                   </td></tr>\n",
       "\t<tr><td> 5                       </td><td>A0A0B4J280               </td><td>sp|A0A0B4J280|TVA40_HUMAN</td><td>S85                      </td><td>sp|A0A0B4J280|TVA40_HUMAN</td><td>CTG-1012                 </td><td>14.859                   </td><td>29717                    </td><td>TVA40_HUMAN              </td><td>TRAV40                   </td></tr>\n",
       "\t<tr><td> 6                       </td><td>A0A0B4J280               </td><td>sp|A0A0B4J280|TVA40_HUMAN</td><td>S85                      </td><td>sp|A0A0B4J280|TVA40_HUMAN</td><td>CTG-1329                 </td><td>10.467                   </td><td> 1415                    </td><td>TVA40_HUMAN              </td><td>TRAV40                   </td></tr>\n",
       "\t<tr><td> 7                       </td><td>A0A0B4J280               </td><td>sp|A0A0B4J280|TVA40_HUMAN</td><td>S85                      </td><td>sp|A0A0B4J280|TVA40_HUMAN</td><td>CTG-1352                 </td><td>13.136                   </td><td> 9002                    </td><td>TVA40_HUMAN              </td><td>TRAV40                   </td></tr>\n",
       "\t<tr><td> 8                       </td><td>A0A0B4J280               </td><td>sp|A0A0B4J280|TVA40_HUMAN</td><td>S85                      </td><td>sp|A0A0B4J280|TVA40_HUMAN</td><td>CTG-1355                 </td><td>11.033                   </td><td> 2095                    </td><td>TVA40_HUMAN              </td><td>TRAV40                   </td></tr>\n",
       "\t<tr><td> 9                       </td><td>A0A0B4J280               </td><td>sp|A0A0B4J280|TVA40_HUMAN</td><td>S85                      </td><td>sp|A0A0B4J280|TVA40_HUMAN</td><td>CTG-1360                 </td><td>13.278                   </td><td> 9933                    </td><td>TVA40_HUMAN              </td><td>TRAV40                   </td></tr>\n",
       "\t<tr><td>10                       </td><td>A0A0B4J280               </td><td>sp|A0A0B4J280|TVA40_HUMAN</td><td>S85                      </td><td>sp|A0A0B4J280|TVA40_HUMAN</td><td>CTG-1361                 </td><td>14.094                   </td><td>17487                    </td><td>TVA40_HUMAN              </td><td>TRAV40                   </td></tr>\n",
       "</tbody>\n",
       "</table>\n"
      ],
      "text/latex": [
       "\\begin{tabular}{r|llllllllll}\n",
       " id & ProteinGroupId & ProteinGroup & PhosLocation\\_Protein & SingleProtein & Sample & Intensity & Counts & ProteinGroupName & hgnc\\_symbol\\\\\n",
       "\\hline\n",
       "\t  1                                              & A0A0B4J280                                      & sp\\textbar{}A0A0B4J280\\textbar{}TVA40\\_HUMAN & S85                                             & sp\\textbar{}A0A0B4J280\\textbar{}TVA40\\_HUMAN & CTG-0464                                        & 10.762                                          &  1737                                           & TVA40\\_HUMAN                                   & TRAV40                                         \\\\\n",
       "\t  2                                              & A0A0B4J280                                      & sp\\textbar{}A0A0B4J280\\textbar{}TVA40\\_HUMAN & S85                                             & sp\\textbar{}A0A0B4J280\\textbar{}TVA40\\_HUMAN & CTG-0502                                        & 12.949                                          &  7907                                           & TVA40\\_HUMAN                                   & TRAV40                                         \\\\\n",
       "\t  3                                              & A0A0B4J280                                      & sp\\textbar{}A0A0B4J280\\textbar{}TVA40\\_HUMAN & S85                                             & sp\\textbar{}A0A0B4J280\\textbar{}TVA40\\_HUMAN & CTG-0838                                        & 11.048                                          &  2117                                           & TVA40\\_HUMAN                                   & TRAV40                                         \\\\\n",
       "\t  4                                              & A0A0B4J280                                      & sp\\textbar{}A0A0B4J280\\textbar{}TVA40\\_HUMAN & S85                                             & sp\\textbar{}A0A0B4J280\\textbar{}TVA40\\_HUMAN & CTG-0852                                        &  9.974                                          &  1006                                           & TVA40\\_HUMAN                                   & TRAV40                                         \\\\\n",
       "\t  5                                              & A0A0B4J280                                      & sp\\textbar{}A0A0B4J280\\textbar{}TVA40\\_HUMAN & S85                                             & sp\\textbar{}A0A0B4J280\\textbar{}TVA40\\_HUMAN & CTG-1012                                        & 14.859                                          & 29717                                           & TVA40\\_HUMAN                                   & TRAV40                                         \\\\\n",
       "\t  6                                              & A0A0B4J280                                      & sp\\textbar{}A0A0B4J280\\textbar{}TVA40\\_HUMAN & S85                                             & sp\\textbar{}A0A0B4J280\\textbar{}TVA40\\_HUMAN & CTG-1329                                        & 10.467                                          &  1415                                           & TVA40\\_HUMAN                                   & TRAV40                                         \\\\\n",
       "\t  7                                              & A0A0B4J280                                      & sp\\textbar{}A0A0B4J280\\textbar{}TVA40\\_HUMAN & S85                                             & sp\\textbar{}A0A0B4J280\\textbar{}TVA40\\_HUMAN & CTG-1352                                        & 13.136                                          &  9002                                           & TVA40\\_HUMAN                                   & TRAV40                                         \\\\\n",
       "\t  8                                              & A0A0B4J280                                      & sp\\textbar{}A0A0B4J280\\textbar{}TVA40\\_HUMAN & S85                                             & sp\\textbar{}A0A0B4J280\\textbar{}TVA40\\_HUMAN & CTG-1355                                        & 11.033                                          &  2095                                           & TVA40\\_HUMAN                                   & TRAV40                                         \\\\\n",
       "\t  9                                              & A0A0B4J280                                      & sp\\textbar{}A0A0B4J280\\textbar{}TVA40\\_HUMAN & S85                                             & sp\\textbar{}A0A0B4J280\\textbar{}TVA40\\_HUMAN & CTG-1360                                        & 13.278                                          &  9933                                           & TVA40\\_HUMAN                                   & TRAV40                                         \\\\\n",
       "\t 10                                              & A0A0B4J280                                      & sp\\textbar{}A0A0B4J280\\textbar{}TVA40\\_HUMAN & S85                                             & sp\\textbar{}A0A0B4J280\\textbar{}TVA40\\_HUMAN & CTG-1361                                        & 14.094                                          & 17487                                           & TVA40\\_HUMAN                                   & TRAV40                                         \\\\\n",
       "\\end{tabular}\n"
      ],
      "text/markdown": [
       "\n",
       "| id | ProteinGroupId | ProteinGroup | PhosLocation_Protein | SingleProtein | Sample | Intensity | Counts | ProteinGroupName | hgnc_symbol |\n",
       "|---|---|---|---|---|---|---|---|---|---|\n",
       "|  1                        | A0A0B4J280                | sp|A0A0B4J280|TVA40_HUMAN | S85                       | sp|A0A0B4J280|TVA40_HUMAN | CTG-0464                  | 10.762                    |  1737                     | TVA40_HUMAN               | TRAV40                    |\n",
       "|  2                        | A0A0B4J280                | sp|A0A0B4J280|TVA40_HUMAN | S85                       | sp|A0A0B4J280|TVA40_HUMAN | CTG-0502                  | 12.949                    |  7907                     | TVA40_HUMAN               | TRAV40                    |\n",
       "|  3                        | A0A0B4J280                | sp|A0A0B4J280|TVA40_HUMAN | S85                       | sp|A0A0B4J280|TVA40_HUMAN | CTG-0838                  | 11.048                    |  2117                     | TVA40_HUMAN               | TRAV40                    |\n",
       "|  4                        | A0A0B4J280                | sp|A0A0B4J280|TVA40_HUMAN | S85                       | sp|A0A0B4J280|TVA40_HUMAN | CTG-0852                  |  9.974                    |  1006                     | TVA40_HUMAN               | TRAV40                    |\n",
       "|  5                        | A0A0B4J280                | sp|A0A0B4J280|TVA40_HUMAN | S85                       | sp|A0A0B4J280|TVA40_HUMAN | CTG-1012                  | 14.859                    | 29717                     | TVA40_HUMAN               | TRAV40                    |\n",
       "|  6                        | A0A0B4J280                | sp|A0A0B4J280|TVA40_HUMAN | S85                       | sp|A0A0B4J280|TVA40_HUMAN | CTG-1329                  | 10.467                    |  1415                     | TVA40_HUMAN               | TRAV40                    |\n",
       "|  7                        | A0A0B4J280                | sp|A0A0B4J280|TVA40_HUMAN | S85                       | sp|A0A0B4J280|TVA40_HUMAN | CTG-1352                  | 13.136                    |  9002                     | TVA40_HUMAN               | TRAV40                    |\n",
       "|  8                        | A0A0B4J280                | sp|A0A0B4J280|TVA40_HUMAN | S85                       | sp|A0A0B4J280|TVA40_HUMAN | CTG-1355                  | 11.033                    |  2095                     | TVA40_HUMAN               | TRAV40                    |\n",
       "|  9                        | A0A0B4J280                | sp|A0A0B4J280|TVA40_HUMAN | S85                       | sp|A0A0B4J280|TVA40_HUMAN | CTG-1360                  | 13.278                    |  9933                     | TVA40_HUMAN               | TRAV40                    |\n",
       "| 10                        | A0A0B4J280                | sp|A0A0B4J280|TVA40_HUMAN | S85                       | sp|A0A0B4J280|TVA40_HUMAN | CTG-1361                  | 14.094                    | 17487                     | TVA40_HUMAN               | TRAV40                    |\n",
       "\n"
      ],
      "text/plain": [
       "   id ProteinGroupId ProteinGroup              PhosLocation_Protein\n",
       "1   1 A0A0B4J280     sp|A0A0B4J280|TVA40_HUMAN S85                 \n",
       "2   2 A0A0B4J280     sp|A0A0B4J280|TVA40_HUMAN S85                 \n",
       "3   3 A0A0B4J280     sp|A0A0B4J280|TVA40_HUMAN S85                 \n",
       "4   4 A0A0B4J280     sp|A0A0B4J280|TVA40_HUMAN S85                 \n",
       "5   5 A0A0B4J280     sp|A0A0B4J280|TVA40_HUMAN S85                 \n",
       "6   6 A0A0B4J280     sp|A0A0B4J280|TVA40_HUMAN S85                 \n",
       "7   7 A0A0B4J280     sp|A0A0B4J280|TVA40_HUMAN S85                 \n",
       "8   8 A0A0B4J280     sp|A0A0B4J280|TVA40_HUMAN S85                 \n",
       "9   9 A0A0B4J280     sp|A0A0B4J280|TVA40_HUMAN S85                 \n",
       "10 10 A0A0B4J280     sp|A0A0B4J280|TVA40_HUMAN S85                 \n",
       "   SingleProtein             Sample   Intensity Counts ProteinGroupName\n",
       "1  sp|A0A0B4J280|TVA40_HUMAN CTG-0464 10.762     1737  TVA40_HUMAN     \n",
       "2  sp|A0A0B4J280|TVA40_HUMAN CTG-0502 12.949     7907  TVA40_HUMAN     \n",
       "3  sp|A0A0B4J280|TVA40_HUMAN CTG-0838 11.048     2117  TVA40_HUMAN     \n",
       "4  sp|A0A0B4J280|TVA40_HUMAN CTG-0852  9.974     1006  TVA40_HUMAN     \n",
       "5  sp|A0A0B4J280|TVA40_HUMAN CTG-1012 14.859    29717  TVA40_HUMAN     \n",
       "6  sp|A0A0B4J280|TVA40_HUMAN CTG-1329 10.467     1415  TVA40_HUMAN     \n",
       "7  sp|A0A0B4J280|TVA40_HUMAN CTG-1352 13.136     9002  TVA40_HUMAN     \n",
       "8  sp|A0A0B4J280|TVA40_HUMAN CTG-1355 11.033     2095  TVA40_HUMAN     \n",
       "9  sp|A0A0B4J280|TVA40_HUMAN CTG-1360 13.278     9933  TVA40_HUMAN     \n",
       "10 sp|A0A0B4J280|TVA40_HUMAN CTG-1361 14.094    17487  TVA40_HUMAN     \n",
       "   hgnc_symbol\n",
       "1  TRAV40     \n",
       "2  TRAV40     \n",
       "3  TRAV40     \n",
       "4  TRAV40     \n",
       "5  TRAV40     \n",
       "6  TRAV40     \n",
       "7  TRAV40     \n",
       "8  TRAV40     \n",
       "9  TRAV40     \n",
       "10 TRAV40     "
      ]
     },
     "metadata": {},
     "output_type": "display_data"
    }
   ],
   "source": [
    "phos <- read.csv(\"./data/Protein_phos_data.csv\")\n",
    "head(phos, 10)"
   ]
  }
 ],
 "metadata": {
  "kernelspec": {
   "display_name": "R",
   "language": "R",
   "name": "ir"
  },
  "language_info": {
   "codemirror_mode": "r",
   "file_extension": ".r",
   "mimetype": "text/x-r-source",
   "name": "R",
   "pygments_lexer": "r",
   "version": "3.6.1"
  }
 },
 "nbformat": 4,
 "nbformat_minor": 5
}
