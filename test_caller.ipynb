{
 "cells": [
  {
   "cell_type": "code",
   "execution_count": 11,
   "id": "8f4ad9a5",
   "metadata": {},
   "outputs": [],
   "source": [
    "suppressPackageStartupMessages(library(dplyr))\n",
    "suppressPackageStartupMessages(library(data.table))\n",
    "suppressPackageStartupMessages(library(parallel))\n",
    "suppressPackageStartupMessages(library(reshape2))\n",
    "suppressPackageStartupMessages(library(parallel))\n",
    "suppressPackageStartupMessages(library(foreach))\n",
    "suppressPackageStartupMessages(library(tidyr))\n",
    "suppressPackageStartupMessages(library(tibble))\n",
    "suppressPackageStartupMessages(library(ggplot2))"
   ]
  },
  {
   "cell_type": "code",
   "execution_count": 8,
   "id": "c0395540",
   "metadata": {},
   "outputs": [
    {
     "ename": "ERROR",
     "evalue": "Error in dbReadTable(sanctumdbcon, name = clin_table): object 'clin_table' not found\n",
     "output_type": "error",
     "traceback": [
      "Error in dbReadTable(sanctumdbcon, name = clin_table): object 'clin_table' not found\nTraceback:\n",
      "1. dbReadTable(sanctumdbcon, name = clin_table)"
     ]
    }
   ],
   "source": [
    "# Read the meta data\n",
    "sanctumdbcon <- RMariaDB::dbConnect(\n",
    "    drv = RMariaDB::MariaDB(),\n",
    "    dbname = \"Devdb\",\n",
    "    user = \"admin\",\n",
    "    password = \"JohnLennon1980\",\n",
    "    host = \"sanctum-instance-1.cnklj0yzvfnv.us-east-1.rds.amazonaws.com\",\n",
    "    port = 3306\n",
    "  )\n",
    "clin_data <- dbReadTable(sanctumdbcon, name = clin_table)\n",
    "dbDisconnect(sanctumdbcon)"
   ]
  },
  {
   "cell_type": "code",
   "execution_count": null,
   "id": "124728e5",
   "metadata": {},
   "outputs": [],
   "source": [
    "clin_data <- dcast(subset(clin_data, !is.na(key)), \n",
    "                 formula = model_id ~ key,\n",
    "                 fun.aggregate = max) %>%\n",
    "subset(., Model %in% colnames(counts)) # keep metadata for relavant samples\n",
    "\n",
    "colnames(clin_data) <- gsub('..via.TruSight.clinical.', '', colnames(clin_data))\n",
    "clin_data[] <- lapply(clin_data, toupper)\n",
    "clin_data[clin_data==\"PENDING\" | clin_data==\"NOT AVAILABLE\" | clin_data==\"OTHER\" ] <- NA\n",
    "clin_data[] <- lapply(clin_data, function(x) gsub(\"DIFFERENTIATED\", \"DIFF.\", x))\n",
    "clin_data[] <- lapply(clin_data, function(x) gsub(\"SQUAMOUS CELL\", \"SC\", x))\n",
    "# remove (largely) empty columns \n",
    "clin_data <- clin_data[apply(clin_data, 2, function(x) sum(is.na(x)) < nrow(clin_data)/2)]\n",
    "# identify numeric columns\n",
    "clin_data <- retype(clin_data)"
   ]
  },
  {
   "cell_type": "markdown",
   "id": "5dd221d7",
   "metadata": {},
   "source": [
    "### Proteomics data"
   ]
  },
  {
   "cell_type": "code",
   "execution_count": 6,
   "id": "a4968c9c",
   "metadata": {},
   "outputs": [
    {
     "data": {
      "text/html": [
       "<table>\n",
       "<thead><tr><th scope=col>X</th><th scope=col>ProteinGroupId</th><th scope=col>ProteinGroup</th><th scope=col>Protein</th><th scope=col>SingleProtein</th><th scope=col>Sample</th><th scope=col>Intensity</th><th scope=col>Counts</th><th scope=col>ProteinGroupName</th><th scope=col>hgnc_symbol</th></tr></thead>\n",
       "<tbody>\n",
       "\t<tr><td>1                                              </td><td>A0A075B759                                     </td><td>sp|A0A075B759|PAL4E_HUMAN;sp|F5H284|PAL4D_HUMAN</td><td>sp|A0A075B759|PAL4E_HUMAN                      </td><td>sp|A0A075B759|PAL4E_HUMAN                      </td><td>CTG-2226                                       </td><td>17.225                                         </td><td>153194                                         </td><td>PAL4E_HUMAN                                    </td><td>PPIAL4E                                        </td></tr>\n",
       "\t<tr><td>2                                              </td><td>A0A075B759                                     </td><td>sp|A0A075B759|PAL4E_HUMAN;sp|F5H284|PAL4D_HUMAN</td><td>sp|A0A075B759|PAL4E_HUMAN                      </td><td>sp|A0A075B759|PAL4E_HUMAN                      </td><td>CTG-2227                                       </td><td>18.070                                         </td><td>275177                                         </td><td>PAL4E_HUMAN                                    </td><td>PPIAL4E                                        </td></tr>\n",
       "</tbody>\n",
       "</table>\n"
      ],
      "text/latex": [
       "\\begin{tabular}{r|llllllllll}\n",
       " X & ProteinGroupId & ProteinGroup & Protein & SingleProtein & Sample & Intensity & Counts & ProteinGroupName & hgnc\\_symbol\\\\\n",
       "\\hline\n",
       "\t 1                                                                                           & A0A075B759                                                                                  & sp\\textbar{}A0A075B759\\textbar{}PAL4E\\_HUMAN;sp\\textbar{}F5H284\\textbar{}PAL4D\\_HUMAN & sp\\textbar{}A0A075B759\\textbar{}PAL4E\\_HUMAN                                             & sp\\textbar{}A0A075B759\\textbar{}PAL4E\\_HUMAN                                             & CTG-2226                                                                                    & 17.225                                                                                      & 153194                                                                                      & PAL4E\\_HUMAN                                                                               & PPIAL4E                                                                                    \\\\\n",
       "\t 2                                                                                           & A0A075B759                                                                                  & sp\\textbar{}A0A075B759\\textbar{}PAL4E\\_HUMAN;sp\\textbar{}F5H284\\textbar{}PAL4D\\_HUMAN & sp\\textbar{}A0A075B759\\textbar{}PAL4E\\_HUMAN                                             & sp\\textbar{}A0A075B759\\textbar{}PAL4E\\_HUMAN                                             & CTG-2227                                                                                    & 18.070                                                                                      & 275177                                                                                      & PAL4E\\_HUMAN                                                                               & PPIAL4E                                                                                    \\\\\n",
       "\\end{tabular}\n"
      ],
      "text/markdown": [
       "\n",
       "| X | ProteinGroupId | ProteinGroup | Protein | SingleProtein | Sample | Intensity | Counts | ProteinGroupName | hgnc_symbol |\n",
       "|---|---|---|---|---|---|---|---|---|---|\n",
       "| 1                                               | A0A075B759                                      | sp|A0A075B759|PAL4E_HUMAN;sp|F5H284|PAL4D_HUMAN | sp|A0A075B759|PAL4E_HUMAN                       | sp|A0A075B759|PAL4E_HUMAN                       | CTG-2226                                        | 17.225                                          | 153194                                          | PAL4E_HUMAN                                     | PPIAL4E                                         |\n",
       "| 2                                               | A0A075B759                                      | sp|A0A075B759|PAL4E_HUMAN;sp|F5H284|PAL4D_HUMAN | sp|A0A075B759|PAL4E_HUMAN                       | sp|A0A075B759|PAL4E_HUMAN                       | CTG-2227                                        | 18.070                                          | 275177                                          | PAL4E_HUMAN                                     | PPIAL4E                                         |\n",
       "\n"
      ],
      "text/plain": [
       "  X ProteinGroupId ProteinGroup                                   \n",
       "1 1 A0A075B759     sp|A0A075B759|PAL4E_HUMAN;sp|F5H284|PAL4D_HUMAN\n",
       "2 2 A0A075B759     sp|A0A075B759|PAL4E_HUMAN;sp|F5H284|PAL4D_HUMAN\n",
       "  Protein                   SingleProtein             Sample   Intensity Counts\n",
       "1 sp|A0A075B759|PAL4E_HUMAN sp|A0A075B759|PAL4E_HUMAN CTG-2226 17.225    153194\n",
       "2 sp|A0A075B759|PAL4E_HUMAN sp|A0A075B759|PAL4E_HUMAN CTG-2227 18.070    275177\n",
       "  ProteinGroupName hgnc_symbol\n",
       "1 PAL4E_HUMAN      PPIAL4E    \n",
       "2 PAL4E_HUMAN      PPIAL4E    "
      ]
     },
     "metadata": {},
     "output_type": "display_data"
    }
   ],
   "source": [
    "prot  <- read.csv(\"./data/Prot_Data_F20FTSUSAT1137_47AML_2021-03-29.csv\")\n",
    "head(prot, 2)"
   ]
  },
  {
   "cell_type": "code",
   "execution_count": null,
   "id": "3a1447d3",
   "metadata": {},
   "outputs": [],
   "source": []
  }
 ],
 "metadata": {
  "kernelspec": {
   "display_name": "R",
   "language": "R",
   "name": "ir"
  },
  "language_info": {
   "codemirror_mode": "r",
   "file_extension": ".r",
   "mimetype": "text/x-r-source",
   "name": "R",
   "pygments_lexer": "r",
   "version": "3.6.1"
  }
 },
 "nbformat": 4,
 "nbformat_minor": 5
}
