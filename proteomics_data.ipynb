{
 "cells": [
  {
   "cell_type": "code",
   "execution_count": 1,
   "id": "e103e923",
   "metadata": {},
   "outputs": [],
   "source": [
    "suppressWarnings(require('pkgmaker',quietly = T))\n",
    "require('plyr',quietly = T)\n",
    "l_ply(c('dplyr',\n",
    "        'plotly',\n",
    "        'data.table',\n",
    "#         'jsonlite', \n",
    "#         'rjson',\n",
    "#         'httr',\n",
    "        'tidyr',  \n",
    "        'reshape2',\n",
    "        'factoextra',\n",
    "        'kableExtra',\n",
    "        'parallel',\n",
    "        'doParallel',\n",
    "        'scales',\n",
    "        'StatMatch',\n",
    "        'lattice',\n",
    "        'utils',\n",
    "        'missMDA',\n",
    "        'RMariaDB',\n",
    "        'pacman',\n",
    "        'parmigene',\n",
    "        'matrixTests',\n",
    "        'hablar',\n",
    "        'tibble', \n",
    "        'DEqMS', \n",
    "        'pcaMethods'), function(pkg) {\n",
    "          invisible(capture.output(irequire(pkg, quiet = T, autoinstall = T)))\n",
    "        })"
   ]
  },
  {
   "cell_type": "markdown",
   "id": "f4d52db7",
   "metadata": {},
   "source": [
    "## Example data"
   ]
  },
  {
   "cell_type": "code",
   "execution_count": 2,
   "id": "9d01bcff",
   "metadata": {},
   "outputs": [],
   "source": [
    "# url <- \"https://ftp.ebi.ac.uk/pride-archive/2016/06/PXD004163/Yan_miR_Protein_table.flatprottable.txt\"\n",
    "# download.file(url, destfile = \"./data/miR_Proteintable.txt\",method= \"auto\")\n",
    "\n",
    "df.prot = read.table(\"./data/miR_Proteintable.txt\",stringsAsFactors = FALSE,\n",
    "                     header = TRUE, quote = \"\", comment.char = \"\",sep = \"\\t\")\n",
    "head(df.prot, 2)"
   ]
  },
  {
   "cell_type": "code",
   "execution_count": 3,
   "id": "a1b36781",
   "metadata": {},
   "outputs": [],
   "source": [
    "TMT_columns = seq(15,33,2)\n",
    "dat = df.prot[df.prot$miR.FASP_q.value<0.01,TMT_columns]\n",
    "rownames(dat) = df.prot[df.prot$miR.FASP_q.value<0.01,]$Protein.accession\n",
    "rm(df.prot) # release memory since using dat from here on\n",
    "head(dat, 2)"
   ]
  },
  {
   "cell_type": "code",
   "execution_count": 9,
   "id": "d870c2fe",
   "metadata": {},
   "outputs": [],
   "source": [
    "dat.log = log2(dat)\n",
    "#remove rows with NAs\n",
    "dat.log = na.omit(dat.log)"
   ]
  },
  {
   "cell_type": "code",
   "execution_count": 10,
   "id": "ea75031a",
   "metadata": {},
   "outputs": [],
   "source": [
    "# Define a vector with the treatment group in the same order as samples in the protein table.\n",
    "cond = as.factor(c(\"ctrl\",\"miR191\",\"miR372\",\"miR519\",\"ctrl\",\n",
    "\"miR372\",\"miR519\",\"ctrl\",\"miR191\",\"miR372\"))"
   ]
  },
  {
   "cell_type": "markdown",
   "id": "9cfba8ab",
   "metadata": {},
   "source": [
    "## Protein_intensity table"
   ]
  },
  {
   "cell_type": "markdown",
   "id": "fc1a022f",
   "metadata": {},
   "source": [
    "From /general_analysis/DataBaseUpload/NGS/Proteomics/bin/PhosphoProteomics_PreProccess.html:\n",
    "\n",
    "Outlayiers: very low/high values (0.0001% and 99.9999%) were floored to these ranges. This believed to be an error and unlikely to be real value.\n",
    "\n",
    "Possible reason: the original data have Inf. The R language calculated it to some extreme values."
   ]
  },
  {
   "cell_type": "code",
   "execution_count": 38,
   "id": "79372130",
   "metadata": {},
   "outputs": [],
   "source": [
    "# from /general_analysis/DataBaseUpload/NGS/Proteomics/bin/PhosphoProteomics_PreProccess.html\n",
    "# `Counts` are just 2 to the power of Intensity. This is for DE analysis where counts are needed\n",
    "# note: without filtering, the dimension is 1330824 rows\n",
    "intensity <- read.csv(\"../proteomics/data/Protein_intensity.csv\") \n",
    "# %>% filter(Intensity > -3.0) # remove values that are too small - think if this is necessary"
   ]
  },
  {
   "cell_type": "code",
   "execution_count": 3,
   "id": "83423d93",
   "metadata": {},
   "outputs": [],
   "source": [
    "int_mtx <- intensity %>% \n",
    "    select(c('ProteinGroup', 'Sample', 'Intensity'))  %>% \n",
    "    pivot_wider(names_from = Sample, values_from = Intensity, values_fn = mean) %>% \n",
    "#     pivot_wider(names_from = Sample, values_from = Intensity) %>% \n",
    "    column_to_rownames('ProteinGroup')\n",
    "# head(int_mtx)\n",
    "# print(dim(int_mtx))\n",
    "# rm(intensity)  # release memory since using int_mtx from here on"
   ]
  },
  {
   "cell_type": "code",
   "execution_count": 15,
   "id": "87879ef6",
   "metadata": {},
   "outputs": [
    {
     "data": {
      "text/html": [
       "<ol class=list-inline>\n",
       "\t<li>295</li>\n",
       "\t<li>317</li>\n",
       "</ol>\n"
      ],
      "text/latex": [
       "\\begin{enumerate*}\n",
       "\\item 295\n",
       "\\item 317\n",
       "\\end{enumerate*}\n"
      ],
      "text/markdown": [
       "1. 295\n",
       "2. 317\n",
       "\n",
       "\n"
      ],
      "text/plain": [
       "[1] 295 317"
      ]
     },
     "metadata": {},
     "output_type": "display_data"
    }
   ],
   "source": [
    "# If omitting all proteins with NA values, how many rows are left?\n",
    "x <- na.omit(int_mtx)\n",
    "dim(x)"
   ]
  },
  {
   "cell_type": "code",
   "execution_count": 16,
   "id": "30e9560d",
   "metadata": {},
   "outputs": [
    {
     "data": {
      "text/html": [
       "0.509788795159781"
      ],
      "text/latex": [
       "0.509788795159781"
      ],
      "text/markdown": [
       "0.509788795159781"
      ],
      "text/plain": [
       "[1] 0.5097888"
      ]
     },
     "metadata": {},
     "output_type": "display_data"
    }
   ],
   "source": [
    "# proportion of missin values\n",
    "sum(is.na(int_mtx))/(dim(int_mtx)[1] * dim(int_mtx)[2])"
   ]
  },
  {
   "cell_type": "markdown",
   "id": "18e9e20b",
   "metadata": {},
   "source": [
    "The intensity is already in log-scale because it has negative values."
   ]
  },
  {
   "cell_type": "markdown",
   "id": "6b14f7cf",
   "metadata": {},
   "source": [
    "### Check the distribution of non-missing values\n",
    "\n",
    "Missing values in proteomic data can be generally characterized into missing at random (MAR) and missing not at random (MNAR). \n",
    "+ MAR missing values mostly result from technical limitations and stochastic fluctuations in an abundance-independent manner.\n",
    "+ MNAR missing values are more abundance-dependent that can be explained by the measurability of the corresponding peptides. \n",
    "\n",
    "Missing values in proteomic data are a mixture of MAR and MNAR. Although the real proportion is difficult to determine, it is believed that MNAR plays a dominant role in producing missing values."
   ]
  },
  {
   "cell_type": "code",
   "execution_count": 17,
   "id": "962225f4",
   "metadata": {},
   "outputs": [
    {
     "data": {
      "image/png": "[encoded data removed]",
      "text/plain": [
       "Plot with title \"Histogram of Non-NA samples in a protein\""
      ]
     },
     "metadata": {},
     "output_type": "display_data"
    }
   ],
   "source": [
    "# For each protein group, how many samples have intensity values\n",
    "hist(rowSums(!is.na(int_mtx)), breaks = 30,\n",
    "     main = \"Histogram of Non-NA samples in a protein\",\n",
    "     xlab = \"Number of samples that have values in a protein\")  "
   ]
  },
  {
   "cell_type": "code",
   "execution_count": 18,
   "id": "71742a2c",
   "metadata": {},
   "outputs": [],
   "source": [
    "# For each sample, how many protein groups have intensity values\n",
    "hist(colSums(!is.na(int_mtx)), breaks = 18,\n",
    "     main = \"Histogram of Non-NA proteins in a sample\",\n",
    "     xlab = \"Number of proteins that have values in a sample\")  "
   ]
  },
  {
   "cell_type": "markdown",
   "id": "2f656dda",
   "metadata": {},
   "source": [
    "### Filtering, normalization, and imputation\n",
    "\n",
    "First, filter proteins with too many missing values. \n",
    "\n",
    "Seoncd, we need to account for technical variability in the amount of sample analyzed by the mass spectrometer from one run to another. This is an issue parallel to the variation in sequencing depth in RNAseq experiments. To normalize out these technical differences, we perform a median normalization. For each sample, the median of the log2-transformed distribution is subtracted from all the values.\n",
    "\n",
    "Third, since missing values are associated with proteins with low levels of expression, we can substitute the missing values with numbers that are considered “small” in each sample. We can define this statistically by drawing from a normal distribution with a mean that is down-shifted from the sample mean and a standard deviation that is a fraction of the standard deviation of the sample distribution. "
   ]
  },
  {
   "cell_type": "code",
   "execution_count": 19,
   "id": "9d55571c",
   "metadata": {},
   "outputs": [],
   "source": [
    "# This plot is to check if the data are currently median centered\n",
    "boxplot(int_mtx, las=2)"
   ]
  },
  {
   "cell_type": "code",
   "execution_count": null,
   "id": "3f058861",
   "metadata": {},
   "outputs": [],
   "source": [
    "# Keep the proteins that were at least observed N_miss times\n",
    "N_miss <- 80\n",
    "int_norm <- int_mtx[rowSums(!is.na(int_mtx)) > N_miss,]\n",
    "print(nrow(int_norm))\n",
    "# proportion of missing values\n",
    "print(sum(is.na(int_norm))/(dim(int_norm)[1] * dim(int_norm)[2]))\n",
    "# # Bring the proprotion of missing values to below 30%\n",
    "\n",
    "# Normalization to conteract the different median between samples\n",
    "# subtract each value in a col with its respective col median\n",
    "int_norm <- sweep(int_norm, 2, apply(int_norm, 2, function(x){median(x, na.rm = TRUE)}), '-') \n",
    "\n",
    "# hist(unlist(int_norm), breaks = 30, col = \"blue\",\n",
    "#                   main = \"Histogram of protein intensity\", \n",
    "#                   xlab = \"Intensity\")  \n",
    "\n",
    "# Imputation\n",
    "width <- 0.3\n",
    "downshift <- 1.8 # assume missing values (small values) are outside 90% of the values in a normal distribution\n",
    "# shrink sd width\n",
    "temp_sd <- width * apply(int_norm, 2, function(x){sd(x, na.rm = TRUE)}) \n",
    "# shift mean of imputed values\n",
    "temp_mean <- apply(int_norm, 2, \n",
    "                   function(x){mean(x, na.rm = TRUE)}) - downshift * apply(int_norm, 2, \n",
    "                                                                           function(x){sd(x, na.rm = TRUE)})  \n",
    "set.seed(1)  # set seed for rnorm()\n",
    "for (i in 1:(dim(int_norm)[2])) {\n",
    "    temp <- int_norm[, i]\n",
    "    int_norm[, i][is.na(temp)] <- rnorm(sum(is.na(temp)), \n",
    "                                             mean = temp_mean[i], \n",
    "                                             sd = temp_sd[i])\n",
    "}\n",
    "head(int_norm, 2)\n",
    "print(dim(int_norm))\n",
    "# hist(unlist(int_norm), breaks = 30, col = alpha(\"green\", 0.5), add = TRUE)\n",
    "# legend('right', c('Normalized', 'Imputed'), fill = c(\"blue\", alpha(\"green\", 0.5)))\n",
    "\n",
    "# The imputed has both the normalized and the new imputed values"
   ]
  },
  {
   "cell_type": "markdown",
   "id": "d8d51152",
   "metadata": {},
   "source": [
    "### Differential protein expression"
   ]
  },
  {
   "cell_type": "code",
   "execution_count": null,
   "id": "dd5f1d5a",
   "metadata": {},
   "outputs": [],
   "source": [
    "clin_treatFile = './data/meta.csv'\n",
    "clin_treat <- fread(clin_treatFile)\n",
    "clin_treat <- clin_treat[clin_treat$Model %in% colnames(int_norm)] %>% \n",
    "    unique\n",
    "head(clin_treat, 2)\n",
    "print(dim(clin_treat))"
   ]
  },
  {
   "cell_type": "code",
   "execution_count": 23,
   "id": "59a3e58d",
   "metadata": {
    "scrolled": true
   },
   "outputs": [
    {
     "data": {
      "text/html": [
       "164"
      ],
      "text/latex": [
       "164"
      ],
      "text/markdown": [
       "164"
      ],
      "text/plain": [
       "[1] 164"
      ]
     },
     "metadata": {},
     "output_type": "display_data"
    }
   ],
   "source": [
    "n_distinct(clin_treat$Model)"
   ]
  },
  {
   "cell_type": "code",
   "execution_count": 24,
   "id": "99bdb2a2",
   "metadata": {},
   "outputs": [
    {
     "data": {
      "text/html": [
       "<table>\n",
       "<thead><tr><th scope=col>Tumor type</th><th scope=col>treatment</th><th scope=col>N</th></tr></thead>\n",
       "<tbody>\n",
       "\t<tr><td>HEAD AND NECK             </td><td>5-FLUOROURACIL            </td><td>1                         </td></tr>\n",
       "\t<tr><td>HEAD AND NECK             </td><td>5-FLUOROURACIL/CARBOPLATIN</td><td>1                         </td></tr>\n",
       "</tbody>\n",
       "</table>\n"
      ],
      "text/latex": [
       "\\begin{tabular}{r|lll}\n",
       " Tumor type & treatment & N\\\\\n",
       "\\hline\n",
       "\t HEAD AND NECK              & 5-FLUOROURACIL             & 1                         \\\\\n",
       "\t HEAD AND NECK              & 5-FLUOROURACIL/CARBOPLATIN & 1                         \\\\\n",
       "\\end{tabular}\n"
      ],
      "text/markdown": [
       "\n",
       "| Tumor type | treatment | N |\n",
       "|---|---|---|\n",
       "| HEAD AND NECK              | 5-FLUOROURACIL             | 1                          |\n",
       "| HEAD AND NECK              | 5-FLUOROURACIL/CARBOPLATIN | 1                          |\n",
       "\n"
      ],
      "text/plain": [
       "  Tumor type    treatment                  N\n",
       "1 HEAD AND NECK 5-FLUOROURACIL             1\n",
       "2 HEAD AND NECK 5-FLUOROURACIL/CARBOPLATIN 1"
      ]
     },
     "metadata": {},
     "output_type": "display_data"
    }
   ],
   "source": [
    "ct_sum <- clin_treat %>% \n",
    "    group_by(`Tumor type`, treatment) %>%\n",
    "    summarise(N = n_distinct(Model), .groups = 'drop')\n",
    "head(ct_sum, 2)"
   ]
  },
  {
   "cell_type": "code",
   "execution_count": null,
   "id": "b6fb68e8",
   "metadata": {},
   "outputs": [],
   "source": [
    "ct_sum[ct_sum$treatment=='NONE',]"
   ]
  },
  {
   "cell_type": "code",
   "execution_count": null,
   "id": "d6c298c4",
   "metadata": {},
   "outputs": [],
   "source": [
    "unique(clin_treat$`Tumor type`)"
   ]
  },
  {
   "cell_type": "code",
   "execution_count": null,
   "id": "40ff9107",
   "metadata": {},
   "outputs": [],
   "source": [
    "# for int_norm matrix, only keep samples that are in clin_treat (name it dat.log to use example code)\n",
    "# add a column in clin_treat to convert treatment to NONE=Naive and all drugs=Treated\n",
    "# sort Model in clin_treat in the same order as in the proteomics matrix\n",
    "# write a function that allows choosing `Tumor type` for each analysis\n",
    "dat.log <- int_norm %>% \n",
    "    select(clin_treat$Model)\n",
    "head(dat.log)\n",
    "print(dim(dat.log))"
   ]
  },
  {
   "cell_type": "code",
   "execution_count": null,
   "id": "f94d1bfa",
   "metadata": {},
   "outputs": [],
   "source": [
    "treated_naive <- clin_treat %>% \n",
    "    mutate(treatment = replace(treatment, treatment != 'NONE', 'Treated')) %>% \n",
    "    mutate(treatment = replace(treatment, treatment == 'NONE', 'Naive')) %>% \n",
    "    select(-outcome) %>% \n",
    "    unique\n",
    "print(dim(treated_naive))\n",
    "head(treated_naive)"
   ]
  },
  {
   "cell_type": "markdown",
   "id": "9270acf5",
   "metadata": {},
   "source": [
    "## Phosphorylation data"
   ]
  },
  {
   "cell_type": "code",
   "execution_count": 27,
   "id": "23149ea5",
   "metadata": {},
   "outputs": [],
   "source": [
    "phos <- read.csv(\"../proteomics/data/Protein_phos_data.csv\")\n",
    "head(phos, 2)"
   ]
  },
  {
   "cell_type": "code",
   "execution_count": 28,
   "id": "50716f1a",
   "metadata": {},
   "outputs": [],
   "source": [
    "phos_int <- phos %>% \n",
    "    select(c('ProteinGroup', 'Sample', 'Counts'))  %>% \n",
    "    pivot_wider(names_from = Sample, values_from = Counts, values_fn = mean) %>% \n",
    "#     pivot_wider(names_from = Sample, values_from = Intensity) %>% \n",
    "    column_to_rownames('ProteinGroup')\n",
    "rm(phos)\n",
    "head(phos_int, 2)\n",
    "print(dim(phos_int))"
   ]
  },
  {
   "cell_type": "code",
   "execution_count": 29,
   "id": "7f449d9b",
   "metadata": {},
   "outputs": [],
   "source": [
    "# x <- na.omit(phos_int)\n",
    "# dim(x)"
   ]
  },
  {
   "cell_type": "code",
   "execution_count": 30,
   "id": "2237ac85",
   "metadata": {},
   "outputs": [],
   "source": [
    "# proportion of missin values\n",
    "sum(is.na(phos_int))/(dim(phos_int)[1] * dim(phos_int)[2])"
   ]
  }
 ],
 "metadata": {
  "environment": {
   "kernel": "ir",
   "name": "r-cpu.4-2.m102",
   "type": "gcloud",
   "uri": "gcr.io/deeplearning-platform-release/r-cpu.4-2:m102"
  },
  "kernelspec": {
   "display_name": "R",
   "language": "R",
   "name": "ir"
  },
  "language_info": {
   "codemirror_mode": "r",
   "file_extension": ".r",
   "mimetype": "text/x-r-source",
   "name": "R",
   "pygments_lexer": "r",
   "version": "4.2.2"
  }
 },
 "nbformat": 4,
 "nbformat_minor": 5
}
