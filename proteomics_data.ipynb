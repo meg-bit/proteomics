{
 "cells": [
  {
   "cell_type": "code",
   "execution_count": 1,
   "id": "e103e923",
   "metadata": {},
   "outputs": [],
   "source": [
    "suppressWarnings(require('pkgmaker',quietly = T))\n",
    "require('plyr',quietly = T)\n",
    "l_ply(c('dplyr',\n",
    "        'plotly',\n",
    "        'data.table',\n",
    "        'jsonlite', \n",
    "        'rjson',\n",
    "        'httr',\n",
    "        'tidyr',  \n",
    "        'reshape2',\n",
    "        'factoextra',\n",
    "        'kableExtra',\n",
    "        'parallel',\n",
    "        'doParallel',\n",
    "        'scales',\n",
    "        'StatMatch',\n",
    "        'lattice',\n",
    "        'utils',\n",
    "        'missMDA',\n",
    "        'RMariaDB',\n",
    "        'pacman',\n",
    "        'parmigene',\n",
    "        'matrixTests',\n",
    "        'hablar',\n",
    "        'tibble'), function(pkg) {\n",
    "          invisible(capture.output(irequire(pkg, quiet = T, autoinstall = T)))\n",
    "        })"
   ]
  },
  {
   "cell_type": "markdown",
   "id": "f4d52db7",
   "metadata": {},
   "source": [
    "## Example data"
   ]
  },
  {
   "cell_type": "code",
   "execution_count": 2,
   "id": "9d01bcff",
   "metadata": {},
   "outputs": [
    {
     "data": {
      "text/html": [
       "<table>\n",
       "<thead><tr><th scope=col>Protein.accession</th><th scope=col>Gene</th><th scope=col>Associated.gene.ID</th><th scope=col>Description</th><th scope=col>Coverage</th><th scope=col>X..Proteins</th><th scope=col>Proteins.in.group</th><th scope=col>miR.FASP_..Unique.peptides</th><th scope=col>miR.FASP_..Peptides</th><th scope=col>miR.FASP_..PSMs</th><th scope=col>...</th><th scope=col>miR.FASP_tmt10plex_129N</th><th scope=col>miR.FASP_tmt10plex_129N.....quanted.PSMs</th><th scope=col>miR.FASP_tmt10plex_129C</th><th scope=col>miR.FASP_tmt10plex_129C.....quanted.PSMs</th><th scope=col>miR.FASP_tmt10plex_130N</th><th scope=col>miR.FASP_tmt10plex_130N.....quanted.PSMs</th><th scope=col>miR.FASP_tmt10plex_130C</th><th scope=col>miR.FASP_tmt10plex_130C.....quanted.PSMs</th><th scope=col>miR.FASP_tmt10plex_131</th><th scope=col>miR.FASP_tmt10plex_131.....quanted.PSMs</th></tr></thead>\n",
       "<tbody>\n",
       "\t<tr><td>A2M                                                             </td><td>NA                                                              </td><td>ENSG00000175899                                                 </td><td>alpha-2-macroglobulin [Source:HGNC Symbol;Acc:HGNC:7]           </td><td>NA                                                              </td><td>na                                                              </td><td>NA                                                              </td><td>8                                                               </td><td>9                                                               </td><td>12                                                              </td><td>...                                                             </td><td>0.8269960                                                       </td><td>11                                                              </td><td>0.7601787                                                       </td><td>11                                                              </td><td>0.9170174                                                       </td><td>11                                                              </td><td>0.8545436                                                       </td><td>11                                                              </td><td>0.6034764                                                       </td><td>11                                                              </td></tr>\n",
       "\t<tr><td>A2ML1                                                           </td><td>NA                                                              </td><td>ENSG00000166535                                                 </td><td>alpha-2-macroglobulin-like 1 [Source:HGNC Symbol;Acc:HGNC:23336]</td><td>NA                                                              </td><td>na                                                              </td><td>NA                                                              </td><td>1                                                               </td><td>1                                                               </td><td> 1                                                              </td><td>...                                                             </td><td>0.9976961                                                       </td><td> 1                                                              </td><td>1.2686841                                                       </td><td> 1                                                              </td><td>1.1331769                                                       </td><td> 1                                                              </td><td>1.3361156                                                       </td><td> 1                                                              </td><td>1.1255814                                                       </td><td> 1                                                              </td></tr>\n",
       "</tbody>\n",
       "</table>\n"
      ],
      "text/latex": [
       "\\begin{tabular}{r|llllllllllllllllllllllllllllllllll}\n",
       " Protein.accession & Gene & Associated.gene.ID & Description & Coverage & X..Proteins & Proteins.in.group & miR.FASP\\_..Unique.peptides & miR.FASP\\_..Peptides & miR.FASP\\_..PSMs & ... & miR.FASP\\_tmt10plex\\_129N & miR.FASP\\_tmt10plex\\_129N.....quanted.PSMs & miR.FASP\\_tmt10plex\\_129C & miR.FASP\\_tmt10plex\\_129C.....quanted.PSMs & miR.FASP\\_tmt10plex\\_130N & miR.FASP\\_tmt10plex\\_130N.....quanted.PSMs & miR.FASP\\_tmt10plex\\_130C & miR.FASP\\_tmt10plex\\_130C.....quanted.PSMs & miR.FASP\\_tmt10plex\\_131 & miR.FASP\\_tmt10plex\\_131.....quanted.PSMs\\\\\n",
       "\\hline\n",
       "\t A2M                                                                  & NA                                                                   & ENSG00000175899                                                      & alpha-2-macroglobulin {[}Source:HGNC Symbol;Acc:HGNC:7{]}            & NA                                                                   & na                                                                   & NA                                                                   & 8                                                                    & 9                                                                    & 12                                                                   & ...                                                                  & 0.8269960                                                            & 11                                                                   & 0.7601787                                                            & 11                                                                   & 0.9170174                                                            & 11                                                                   & 0.8545436                                                            & 11                                                                   & 0.6034764                                                            & 11                                                                  \\\\\n",
       "\t A2ML1                                                                & NA                                                                   & ENSG00000166535                                                      & alpha-2-macroglobulin-like 1 {[}Source:HGNC Symbol;Acc:HGNC:23336{]} & NA                                                                   & na                                                                   & NA                                                                   & 1                                                                    & 1                                                                    &  1                                                                   & ...                                                                  & 0.9976961                                                            &  1                                                                   & 1.2686841                                                            &  1                                                                   & 1.1331769                                                            &  1                                                                   & 1.3361156                                                            &  1                                                                   & 1.1255814                                                            &  1                                                                  \\\\\n",
       "\\end{tabular}\n"
      ],
      "text/markdown": [
       "\n",
       "| Protein.accession | Gene | Associated.gene.ID | Description | Coverage | X..Proteins | Proteins.in.group | miR.FASP_..Unique.peptides | miR.FASP_..Peptides | miR.FASP_..PSMs | ... | miR.FASP_tmt10plex_129N | miR.FASP_tmt10plex_129N.....quanted.PSMs | miR.FASP_tmt10plex_129C | miR.FASP_tmt10plex_129C.....quanted.PSMs | miR.FASP_tmt10plex_130N | miR.FASP_tmt10plex_130N.....quanted.PSMs | miR.FASP_tmt10plex_130C | miR.FASP_tmt10plex_130C.....quanted.PSMs | miR.FASP_tmt10plex_131 | miR.FASP_tmt10plex_131.....quanted.PSMs |\n",
       "|---|---|---|---|---|---|---|---|---|---|---|---|---|---|---|---|---|---|---|---|---|\n",
       "| A2M                                                              | NA                                                               | ENSG00000175899                                                  | alpha-2-macroglobulin [Source:HGNC Symbol;Acc:HGNC:7]            | NA                                                               | na                                                               | NA                                                               | 8                                                                | 9                                                                | 12                                                               | ...                                                              | 0.8269960                                                        | 11                                                               | 0.7601787                                                        | 11                                                               | 0.9170174                                                        | 11                                                               | 0.8545436                                                        | 11                                                               | 0.6034764                                                        | 11                                                               |\n",
       "| A2ML1                                                            | NA                                                               | ENSG00000166535                                                  | alpha-2-macroglobulin-like 1 [Source:HGNC Symbol;Acc:HGNC:23336] | NA                                                               | na                                                               | NA                                                               | 1                                                                | 1                                                                |  1                                                               | ...                                                              | 0.9976961                                                        |  1                                                               | 1.2686841                                                        |  1                                                               | 1.1331769                                                        |  1                                                               | 1.3361156                                                        |  1                                                               | 1.1255814                                                        |  1                                                               |\n",
       "\n"
      ],
      "text/plain": [
       "  Protein.accession Gene Associated.gene.ID\n",
       "1 A2M               NA   ENSG00000175899   \n",
       "2 A2ML1             NA   ENSG00000166535   \n",
       "  Description                                                      Coverage\n",
       "1 alpha-2-macroglobulin [Source:HGNC Symbol;Acc:HGNC:7]            NA      \n",
       "2 alpha-2-macroglobulin-like 1 [Source:HGNC Symbol;Acc:HGNC:23336] NA      \n",
       "  X..Proteins Proteins.in.group miR.FASP_..Unique.peptides miR.FASP_..Peptides\n",
       "1 na          NA                8                          9                  \n",
       "2 na          NA                1                          1                  \n",
       "  miR.FASP_..PSMs ... miR.FASP_tmt10plex_129N\n",
       "1 12              ... 0.8269960              \n",
       "2  1              ... 0.9976961              \n",
       "  miR.FASP_tmt10plex_129N.....quanted.PSMs miR.FASP_tmt10plex_129C\n",
       "1 11                                       0.7601787              \n",
       "2  1                                       1.2686841              \n",
       "  miR.FASP_tmt10plex_129C.....quanted.PSMs miR.FASP_tmt10plex_130N\n",
       "1 11                                       0.9170174              \n",
       "2  1                                       1.1331769              \n",
       "  miR.FASP_tmt10plex_130N.....quanted.PSMs miR.FASP_tmt10plex_130C\n",
       "1 11                                       0.8545436              \n",
       "2  1                                       1.3361156              \n",
       "  miR.FASP_tmt10plex_130C.....quanted.PSMs miR.FASP_tmt10plex_131\n",
       "1 11                                       0.6034764             \n",
       "2  1                                       1.1255814             \n",
       "  miR.FASP_tmt10plex_131.....quanted.PSMs\n",
       "1 11                                     \n",
       "2  1                                     "
      ]
     },
     "metadata": {},
     "output_type": "display_data"
    }
   ],
   "source": [
    "# url <- \"https://ftp.ebi.ac.uk/pride-archive/2016/06/PXD004163/Yan_miR_Protein_table.flatprottable.txt\"\n",
    "# download.file(url, destfile = \"./data/miR_Proteintable.txt\",method= \"auto\")\n",
    "\n",
    "df.prot = read.table(\"./data/miR_Proteintable.txt\",stringsAsFactors = FALSE,\n",
    "                     header = TRUE, quote = \"\", comment.char = \"\",sep = \"\\t\")\n",
    "head(df.prot, 2)"
   ]
  },
  {
   "cell_type": "code",
   "execution_count": 3,
   "id": "a1b36781",
   "metadata": {},
   "outputs": [
    {
     "data": {
      "text/html": [
       "<table>\n",
       "<thead><tr><th></th><th scope=col>miR.FASP_tmt10plex_126</th><th scope=col>miR.FASP_tmt10plex_127N</th><th scope=col>miR.FASP_tmt10plex_127C</th><th scope=col>miR.FASP_tmt10plex_128N</th><th scope=col>miR.FASP_tmt10plex_128C</th><th scope=col>miR.FASP_tmt10plex_129N</th><th scope=col>miR.FASP_tmt10plex_129C</th><th scope=col>miR.FASP_tmt10plex_130N</th><th scope=col>miR.FASP_tmt10plex_130C</th><th scope=col>miR.FASP_tmt10plex_131</th></tr></thead>\n",
       "<tbody>\n",
       "\t<tr><th scope=row>A2M</th><td>0.9308308</td><td>0.7720215</td><td>0.7079040</td><td>0.7893872</td><td>1.1513714</td><td>0.8269960</td><td>0.7601787</td><td>0.9170174</td><td>0.8545436</td><td>0.6034764</td></tr>\n",
       "\t<tr><th scope=row>AAAS</th><td>0.9154370</td><td>0.9168362</td><td>0.9416988</td><td>0.8854413</td><td>0.9657291</td><td>0.8474254</td><td>0.9044735</td><td>1.1462708</td><td>0.9201587</td><td>1.0190892</td></tr>\n",
       "</tbody>\n",
       "</table>\n"
      ],
      "text/latex": [
       "\\begin{tabular}{r|llllllllll}\n",
       "  & miR.FASP\\_tmt10plex\\_126 & miR.FASP\\_tmt10plex\\_127N & miR.FASP\\_tmt10plex\\_127C & miR.FASP\\_tmt10plex\\_128N & miR.FASP\\_tmt10plex\\_128C & miR.FASP\\_tmt10plex\\_129N & miR.FASP\\_tmt10plex\\_129C & miR.FASP\\_tmt10plex\\_130N & miR.FASP\\_tmt10plex\\_130C & miR.FASP\\_tmt10plex\\_131\\\\\n",
       "\\hline\n",
       "\tA2M & 0.9308308 & 0.7720215 & 0.7079040 & 0.7893872 & 1.1513714 & 0.8269960 & 0.7601787 & 0.9170174 & 0.8545436 & 0.6034764\\\\\n",
       "\tAAAS & 0.9154370 & 0.9168362 & 0.9416988 & 0.8854413 & 0.9657291 & 0.8474254 & 0.9044735 & 1.1462708 & 0.9201587 & 1.0190892\\\\\n",
       "\\end{tabular}\n"
      ],
      "text/markdown": [
       "\n",
       "| <!--/--> | miR.FASP_tmt10plex_126 | miR.FASP_tmt10plex_127N | miR.FASP_tmt10plex_127C | miR.FASP_tmt10plex_128N | miR.FASP_tmt10plex_128C | miR.FASP_tmt10plex_129N | miR.FASP_tmt10plex_129C | miR.FASP_tmt10plex_130N | miR.FASP_tmt10plex_130C | miR.FASP_tmt10plex_131 |\n",
       "|---|---|---|---|---|---|---|---|---|---|---|\n",
       "| A2M | 0.9308308 | 0.7720215 | 0.7079040 | 0.7893872 | 1.1513714 | 0.8269960 | 0.7601787 | 0.9170174 | 0.8545436 | 0.6034764 |\n",
       "| AAAS | 0.9154370 | 0.9168362 | 0.9416988 | 0.8854413 | 0.9657291 | 0.8474254 | 0.9044735 | 1.1462708 | 0.9201587 | 1.0190892 |\n",
       "\n"
      ],
      "text/plain": [
       "     miR.FASP_tmt10plex_126 miR.FASP_tmt10plex_127N miR.FASP_tmt10plex_127C\n",
       "A2M  0.9308308              0.7720215               0.7079040              \n",
       "AAAS 0.9154370              0.9168362               0.9416988              \n",
       "     miR.FASP_tmt10plex_128N miR.FASP_tmt10plex_128C miR.FASP_tmt10plex_129N\n",
       "A2M  0.7893872               1.1513714               0.8269960              \n",
       "AAAS 0.8854413               0.9657291               0.8474254              \n",
       "     miR.FASP_tmt10plex_129C miR.FASP_tmt10plex_130N miR.FASP_tmt10plex_130C\n",
       "A2M  0.7601787               0.9170174               0.8545436              \n",
       "AAAS 0.9044735               1.1462708               0.9201587              \n",
       "     miR.FASP_tmt10plex_131\n",
       "A2M  0.6034764             \n",
       "AAAS 1.0190892             "
      ]
     },
     "metadata": {},
     "output_type": "display_data"
    }
   ],
   "source": [
    "TMT_columns = seq(15,33,2)\n",
    "dat = df.prot[df.prot$miR.FASP_q.value<0.01,TMT_columns]\n",
    "rownames(dat) = df.prot[df.prot$miR.FASP_q.value<0.01,]$Protein.accession\n",
    "rm(df.prot) # release memory since using dat from here on\n",
    "head(dat, 2)"
   ]
  },
  {
   "cell_type": "code",
   "execution_count": 4,
   "id": "343dee4d",
   "metadata": {},
   "outputs": [
    {
     "data": {
      "text/html": [
       "0.150169819876966"
      ],
      "text/latex": [
       "0.150169819876966"
      ],
      "text/markdown": [
       "0.150169819876966"
      ],
      "text/plain": [
       "[1] 0.1501698"
      ]
     },
     "metadata": {},
     "output_type": "display_data"
    }
   ],
   "source": [
    "min(dat, na.rm = TRUE)"
   ]
  },
  {
   "cell_type": "code",
   "execution_count": 5,
   "id": "ad4b59eb",
   "metadata": {},
   "outputs": [
    {
     "data": {
      "text/html": [
       "23.6968808292819"
      ],
      "text/latex": [
       "23.6968808292819"
      ],
      "text/markdown": [
       "23.6968808292819"
      ],
      "text/plain": [
       "[1] 23.69688"
      ]
     },
     "metadata": {},
     "output_type": "display_data"
    }
   ],
   "source": [
    "max(dat, na.rm = TRUE)"
   ]
  },
  {
   "cell_type": "code",
   "execution_count": 6,
   "id": "29c98708",
   "metadata": {},
   "outputs": [
    {
     "data": {
      "text/html": [
       "<table>\n",
       "<thead><tr><th></th><th scope=col>miR.FASP_tmt10plex_126</th><th scope=col>miR.FASP_tmt10plex_127N</th><th scope=col>miR.FASP_tmt10plex_127C</th><th scope=col>miR.FASP_tmt10plex_128N</th><th scope=col>miR.FASP_tmt10plex_128C</th><th scope=col>miR.FASP_tmt10plex_129N</th><th scope=col>miR.FASP_tmt10plex_129C</th><th scope=col>miR.FASP_tmt10plex_130N</th><th scope=col>miR.FASP_tmt10plex_130C</th><th scope=col>miR.FASP_tmt10plex_131</th></tr></thead>\n",
       "<tbody>\n",
       "\t<tr><th scope=row>A2M</th><td>-0.1034091 </td><td>-0.3732871 </td><td>-0.49837439</td><td>-0.3411950 </td><td> 0.2033533 </td><td>-0.2740477 </td><td>-0.3955894 </td><td>-0.1249790 </td><td>-0.2267739 </td><td>-0.72863073</td></tr>\n",
       "\t<tr><th scope=row>AAAS</th><td>-0.1274675 </td><td>-0.1252641 </td><td>-0.08666234</td><td>-0.1755314 </td><td>-0.0503095 </td><td>-0.2388417 </td><td>-0.1448499 </td><td> 0.1969479 </td><td>-0.1200454 </td><td> 0.02728034</td></tr>\n",
       "</tbody>\n",
       "</table>\n"
      ],
      "text/latex": [
       "\\begin{tabular}{r|llllllllll}\n",
       "  & miR.FASP\\_tmt10plex\\_126 & miR.FASP\\_tmt10plex\\_127N & miR.FASP\\_tmt10plex\\_127C & miR.FASP\\_tmt10plex\\_128N & miR.FASP\\_tmt10plex\\_128C & miR.FASP\\_tmt10plex\\_129N & miR.FASP\\_tmt10plex\\_129C & miR.FASP\\_tmt10plex\\_130N & miR.FASP\\_tmt10plex\\_130C & miR.FASP\\_tmt10plex\\_131\\\\\n",
       "\\hline\n",
       "\tA2M & -0.1034091  & -0.3732871  & -0.49837439 & -0.3411950  &  0.2033533  & -0.2740477  & -0.3955894  & -0.1249790  & -0.2267739  & -0.72863073\\\\\n",
       "\tAAAS & -0.1274675  & -0.1252641  & -0.08666234 & -0.1755314  & -0.0503095  & -0.2388417  & -0.1448499  &  0.1969479  & -0.1200454  &  0.02728034\\\\\n",
       "\\end{tabular}\n"
      ],
      "text/markdown": [
       "\n",
       "| <!--/--> | miR.FASP_tmt10plex_126 | miR.FASP_tmt10plex_127N | miR.FASP_tmt10plex_127C | miR.FASP_tmt10plex_128N | miR.FASP_tmt10plex_128C | miR.FASP_tmt10plex_129N | miR.FASP_tmt10plex_129C | miR.FASP_tmt10plex_130N | miR.FASP_tmt10plex_130C | miR.FASP_tmt10plex_131 |\n",
       "|---|---|---|---|---|---|---|---|---|---|---|\n",
       "| A2M | -0.1034091  | -0.3732871  | -0.49837439 | -0.3411950  |  0.2033533  | -0.2740477  | -0.3955894  | -0.1249790  | -0.2267739  | -0.72863073 |\n",
       "| AAAS | -0.1274675  | -0.1252641  | -0.08666234 | -0.1755314  | -0.0503095  | -0.2388417  | -0.1448499  |  0.1969479  | -0.1200454  |  0.02728034 |\n",
       "\n"
      ],
      "text/plain": [
       "     miR.FASP_tmt10plex_126 miR.FASP_tmt10plex_127N miR.FASP_tmt10plex_127C\n",
       "A2M  -0.1034091             -0.3732871              -0.49837439            \n",
       "AAAS -0.1274675             -0.1252641              -0.08666234            \n",
       "     miR.FASP_tmt10plex_128N miR.FASP_tmt10plex_128C miR.FASP_tmt10plex_129N\n",
       "A2M  -0.3411950               0.2033533              -0.2740477             \n",
       "AAAS -0.1755314              -0.0503095              -0.2388417             \n",
       "     miR.FASP_tmt10plex_129C miR.FASP_tmt10plex_130N miR.FASP_tmt10plex_130C\n",
       "A2M  -0.3955894              -0.1249790              -0.2267739             \n",
       "AAAS -0.1448499               0.1969479              -0.1200454             \n",
       "     miR.FASP_tmt10plex_131\n",
       "A2M  -0.72863073           \n",
       "AAAS  0.02728034           "
      ]
     },
     "metadata": {},
     "output_type": "display_data"
    }
   ],
   "source": [
    "head(log2(dat), 2)"
   ]
  },
  {
   "cell_type": "code",
   "execution_count": 7,
   "id": "9fde2350",
   "metadata": {},
   "outputs": [
    {
     "data": {
      "text/html": [
       "-2.73533319607514"
      ],
      "text/latex": [
       "-2.73533319607514"
      ],
      "text/markdown": [
       "-2.73533319607514"
      ],
      "text/plain": [
       "[1] -2.735333"
      ]
     },
     "metadata": {},
     "output_type": "display_data"
    }
   ],
   "source": [
    "min(log2(dat), na.rm = TRUE)"
   ]
  },
  {
   "cell_type": "code",
   "execution_count": 8,
   "id": "9893f5d0",
   "metadata": {},
   "outputs": [
    {
     "data": {
      "text/html": [
       "4.5666252675857"
      ],
      "text/latex": [
       "4.5666252675857"
      ],
      "text/markdown": [
       "4.5666252675857"
      ],
      "text/plain": [
       "[1] 4.566625"
      ]
     },
     "metadata": {},
     "output_type": "display_data"
    }
   ],
   "source": [
    "max(log2(dat), na.rm = TRUE)"
   ]
  },
  {
   "cell_type": "markdown",
   "id": "9cfba8ab",
   "metadata": {},
   "source": [
    "## Protein_intensity table\n",
    "\n",
    "Missing values in proteomic data can be generally characterized into missing at random (MAR) and missing not at random (MNAR)2,3. \n",
    "+ MAR missing values mostly result from technical limitations and stochastic fluctuations in an abundance-independent manner.\n",
    "+ MNAR missing values are more abundance-dependent that can be explained by the measurability of the corresponding peptides. \n",
    "\n",
    "Missing values in proteomic data are a mixture of MAR and MNAR. Although the real proportion is difficult to determine, it is believed that MNAR plays a dominant role in producing missing values."
   ]
  },
  {
   "cell_type": "markdown",
   "id": "4466c5b2",
   "metadata": {},
   "source": [
    "From /general_analysis/DataBaseUpload/NGS/Proteomics/bin/PhosphoProteomics_PreProccess.html:\n",
    "\n",
    "Outlayiers: very low/high values (0.0001% and 99.9999%) were floored to these ranges. This believed to be an error and unlikely to be real value.\n",
    "\n",
    "Possible reason: the original data have Inf. The R language calculated it to some extreme values."
   ]
  },
  {
   "cell_type": "code",
   "execution_count": 10,
   "id": "79372130",
   "metadata": {},
   "outputs": [],
   "source": [
    "# from /general_analysis/DataBaseUpload/NGS/Proteomics/bin/PhosphoProteomics_PreProccess.html\n",
    "# `Counts` are just 2 to the power of Intensity. This is for DE analysis where counts are needed\n",
    "# note: without filtering, the dimension is 1330824 rows\n",
    "intensity <- read.csv(\"../proteomics/data/Protein_intensity.csv\") %>% \n",
    "    filter(Intensity > -3.0)"
   ]
  },
  {
   "cell_type": "code",
   "execution_count": 53,
   "id": "25a0900f",
   "metadata": {},
   "outputs": [
    {
     "data": {
      "text/html": [
       "<table>\n",
       "<thead><tr><th scope=col>id</th><th scope=col>Protein</th><th scope=col>ProteinGroup</th><th scope=col>ProteinGroupName</th><th scope=col>ProteinGroupId</th><th scope=col>Organism</th><th scope=col>Sample</th><th scope=col>Intensity</th><th scope=col>counts</th><th scope=col>hgnc_symbol</th></tr></thead>\n",
       "<tbody>\n",
       "\t<tr><td>45243                    </td><td>sp|A0A087WV62|TVB16_HUMAN</td><td>sp|A0A087WV62|TVB16_HUMAN</td><td>TVB16_HUMAN              </td><td>A0A087WV62               </td><td>NULL                     </td><td>CTG-0158                 </td><td>15.503                   </td><td>NULL                     </td><td>NULL                     </td></tr>\n",
       "\t<tr><td>45244                    </td><td>sp|A0A087WV62|TVB16_HUMAN</td><td>sp|A0A087WV62|TVB16_HUMAN</td><td>TVB16_HUMAN              </td><td>A0A087WV62               </td><td>NULL                     </td><td>CTG-0159                 </td><td>14.932                   </td><td>NULL                     </td><td>NULL                     </td></tr>\n",
       "</tbody>\n",
       "</table>\n"
      ],
      "text/latex": [
       "\\begin{tabular}{r|llllllllll}\n",
       " id & Protein & ProteinGroup & ProteinGroupName & ProteinGroupId & Organism & Sample & Intensity & counts & hgnc\\_symbol\\\\\n",
       "\\hline\n",
       "\t 45243                                           & sp\\textbar{}A0A087WV62\\textbar{}TVB16\\_HUMAN & sp\\textbar{}A0A087WV62\\textbar{}TVB16\\_HUMAN & TVB16\\_HUMAN                                   & A0A087WV62                                      & NULL                                            & CTG-0158                                        & 15.503                                          & NULL                                            & NULL                                           \\\\\n",
       "\t 45244                                           & sp\\textbar{}A0A087WV62\\textbar{}TVB16\\_HUMAN & sp\\textbar{}A0A087WV62\\textbar{}TVB16\\_HUMAN & TVB16\\_HUMAN                                   & A0A087WV62                                      & NULL                                            & CTG-0159                                        & 14.932                                          & NULL                                            & NULL                                           \\\\\n",
       "\\end{tabular}\n"
      ],
      "text/markdown": [
       "\n",
       "| id | Protein | ProteinGroup | ProteinGroupName | ProteinGroupId | Organism | Sample | Intensity | counts | hgnc_symbol |\n",
       "|---|---|---|---|---|---|---|---|---|---|\n",
       "| 45243                     | sp|A0A087WV62|TVB16_HUMAN | sp|A0A087WV62|TVB16_HUMAN | TVB16_HUMAN               | A0A087WV62                | NULL                      | CTG-0158                  | 15.503                    | NULL                      | NULL                      |\n",
       "| 45244                     | sp|A0A087WV62|TVB16_HUMAN | sp|A0A087WV62|TVB16_HUMAN | TVB16_HUMAN               | A0A087WV62                | NULL                      | CTG-0159                  | 14.932                    | NULL                      | NULL                      |\n",
       "\n"
      ],
      "text/plain": [
       "  id    Protein                   ProteinGroup              ProteinGroupName\n",
       "1 45243 sp|A0A087WV62|TVB16_HUMAN sp|A0A087WV62|TVB16_HUMAN TVB16_HUMAN     \n",
       "2 45244 sp|A0A087WV62|TVB16_HUMAN sp|A0A087WV62|TVB16_HUMAN TVB16_HUMAN     \n",
       "  ProteinGroupId Organism Sample   Intensity counts hgnc_symbol\n",
       "1 A0A087WV62     NULL     CTG-0158 15.503    NULL   NULL       \n",
       "2 A0A087WV62     NULL     CTG-0159 14.932    NULL   NULL       "
      ]
     },
     "metadata": {},
     "output_type": "display_data"
    },
    {
     "name": "stdout",
     "output_type": "stream",
     "text": [
      "[1] 1330754      10\n"
     ]
    }
   ],
   "source": [
    "head(intensity, 2)\n",
    "print(dim(intensity))"
   ]
  },
  {
   "cell_type": "code",
   "execution_count": 11,
   "id": "58ae14a5",
   "metadata": {},
   "outputs": [
    {
     "data": {
      "text/html": [
       "<table>\n",
       "<thead><tr><th></th><th scope=col>id</th><th scope=col>Protein</th><th scope=col>ProteinGroup</th><th scope=col>ProteinGroupName</th><th scope=col>ProteinGroupId</th><th scope=col>Organism</th><th scope=col>Sample</th><th scope=col>Intensity</th><th scope=col>counts</th><th scope=col>hgnc_symbol</th></tr></thead>\n",
       "<tbody>\n",
       "\t<tr><th scope=row>114</th><td> 45356                                         </td><td>sp|A0A0B4J2D5|GAL3B_HUMAN                      </td><td>sp|A0A0B4J2D5|GAL3B_HUMAN;sp|P0DPI2|GAL3A_HUMAN</td><td>GAL3B_HUMAN                                    </td><td>A0A0B4J2D5                                     </td><td>NULL                                           </td><td>CTG-0158                                       </td><td>18.058                                         </td><td>NULL                                           </td><td>NULL                                           </td></tr>\n",
       "\t<tr><th scope=row>110184</th><td>155426                                         </td><td>sp|A0A0B4J2D5|GAL3B_HUMAN                      </td><td>sp|A0A0B4J2D5|GAL3B_HUMAN;sp|P0DPI2|GAL3A_HUMAN</td><td>GAL3A_HUMAN                                    </td><td>P0DPI2                                         </td><td>NULL                                           </td><td>CTG-0158                                       </td><td>18.058                                         </td><td>NULL                                           </td><td>NULL                                           </td></tr>\n",
       "</tbody>\n",
       "</table>\n"
      ],
      "text/latex": [
       "\\begin{tabular}{r|llllllllll}\n",
       "  & id & Protein & ProteinGroup & ProteinGroupName & ProteinGroupId & Organism & Sample & Intensity & counts & hgnc\\_symbol\\\\\n",
       "\\hline\n",
       "\t114 &  45356                                                                                      & sp\\textbar{}A0A0B4J2D5\\textbar{}GAL3B\\_HUMAN                                             & sp\\textbar{}A0A0B4J2D5\\textbar{}GAL3B\\_HUMAN;sp\\textbar{}P0DPI2\\textbar{}GAL3A\\_HUMAN & GAL3B\\_HUMAN                                                                               & A0A0B4J2D5                                                                                  & NULL                                                                                        & CTG-0158                                                                                    & 18.058                                                                                      & NULL                                                                                        & NULL                                                                                       \\\\\n",
       "\t110184 & 155426                                                                                      & sp\\textbar{}A0A0B4J2D5\\textbar{}GAL3B\\_HUMAN                                             & sp\\textbar{}A0A0B4J2D5\\textbar{}GAL3B\\_HUMAN;sp\\textbar{}P0DPI2\\textbar{}GAL3A\\_HUMAN & GAL3A\\_HUMAN                                                                               & P0DPI2                                                                                      & NULL                                                                                        & CTG-0158                                                                                    & 18.058                                                                                      & NULL                                                                                        & NULL                                                                                       \\\\\n",
       "\\end{tabular}\n"
      ],
      "text/markdown": [
       "\n",
       "| <!--/--> | id | Protein | ProteinGroup | ProteinGroupName | ProteinGroupId | Organism | Sample | Intensity | counts | hgnc_symbol |\n",
       "|---|---|---|---|---|---|---|---|---|---|---|\n",
       "| 114 |  45356                                          | sp|A0A0B4J2D5|GAL3B_HUMAN                       | sp|A0A0B4J2D5|GAL3B_HUMAN;sp|P0DPI2|GAL3A_HUMAN | GAL3B_HUMAN                                     | A0A0B4J2D5                                      | NULL                                            | CTG-0158                                        | 18.058                                          | NULL                                            | NULL                                            |\n",
       "| 110184 | 155426                                          | sp|A0A0B4J2D5|GAL3B_HUMAN                       | sp|A0A0B4J2D5|GAL3B_HUMAN;sp|P0DPI2|GAL3A_HUMAN | GAL3A_HUMAN                                     | P0DPI2                                          | NULL                                            | CTG-0158                                        | 18.058                                          | NULL                                            | NULL                                            |\n",
       "\n"
      ],
      "text/plain": [
       "       id     Protein                  \n",
       "114     45356 sp|A0A0B4J2D5|GAL3B_HUMAN\n",
       "110184 155426 sp|A0A0B4J2D5|GAL3B_HUMAN\n",
       "       ProteinGroup                                    ProteinGroupName\n",
       "114    sp|A0A0B4J2D5|GAL3B_HUMAN;sp|P0DPI2|GAL3A_HUMAN GAL3B_HUMAN     \n",
       "110184 sp|A0A0B4J2D5|GAL3B_HUMAN;sp|P0DPI2|GAL3A_HUMAN GAL3A_HUMAN     \n",
       "       ProteinGroupId Organism Sample   Intensity counts hgnc_symbol\n",
       "114    A0A0B4J2D5     NULL     CTG-0158 18.058    NULL   NULL       \n",
       "110184 P0DPI2         NULL     CTG-0158 18.058    NULL   NULL       "
      ]
     },
     "metadata": {},
     "output_type": "display_data"
    }
   ],
   "source": [
    "# check a case where there are repeats\n",
    "# The intensity was not calculated differently between GAL3A and GAL3B\n",
    "x <- intensity[intensity$Protein=='sp|A0A0B4J2D5|GAL3B_HUMAN',]\n",
    "x[x$Sample=='CTG-0158',]"
   ]
  },
  {
   "cell_type": "code",
   "execution_count": 12,
   "id": "83423d93",
   "metadata": {},
   "outputs": [
    {
     "data": {
      "text/html": [
       "<table>\n",
       "<thead><tr><th></th><th scope=col>CTG-0158</th><th scope=col>CTG-0159</th><th scope=col>CTG-0160</th><th scope=col>CTG-0162</th><th scope=col>CTG-0163</th><th scope=col>CTG-0166</th><th scope=col>CTG-0167</th><th scope=col>CTG-0178</th><th scope=col>CTG-0184</th><th scope=col>CTG-0464</th><th scope=col>...</th><th scope=col>CTG-3794</th><th scope=col>CTG-3795</th><th scope=col>CTG-3796</th><th scope=col>CTG-3797</th><th scope=col>CTG-3799</th><th scope=col>CTG-3800</th><th scope=col>CTG-3801</th><th scope=col>CTG-3802</th><th scope=col>CTG-3803</th><th scope=col>CTG-3805</th></tr></thead>\n",
       "<tbody>\n",
       "\t<tr><th scope=row>sp|A0A087WV62|TVB16_HUMAN</th><td>15.503</td><td>14.932</td><td>14.791</td><td>15.616</td><td>15.860</td><td>15.620</td><td>14.404</td><td>17.208</td><td>15.961</td><td>14.648</td><td>...   </td><td>    NA</td><td>    NA</td><td>    NA</td><td>    NA</td><td>    NA</td><td>    NA</td><td>    NA</td><td>    NA</td><td>    NA</td><td>    NA</td></tr>\n",
       "\t<tr><th scope=row>sp|A0A0B4J2D5|GAL3B_HUMAN;sp|P0DPI2|GAL3A_HUMAN</th><td>18.058</td><td>15.959</td><td>16.403</td><td>16.609</td><td>17.808</td><td>17.707</td><td>16.961</td><td>17.071</td><td>16.576</td><td>17.171</td><td>...   </td><td>19.154</td><td>18.021</td><td>18.640</td><td>17.470</td><td>19.184</td><td>18.883</td><td>19.659</td><td>19.406</td><td>18.087</td><td>19.928</td></tr>\n",
       "\t<tr><th scope=row>sp|A0A0B4J2H0|HV69D_HUMAN;sp|A0A0C4DH29|HV103_HUMAN;sp|P01742|HV169_HUMAN;sp|P01743|HV146_HUMAN;sp|P0DP01|HV108_HUMAN</th><td>    NA</td><td>    NA</td><td>    NA</td><td>    NA</td><td>    NA</td><td>    NA</td><td>    NA</td><td>    NA</td><td>14.146</td><td>    NA</td><td>...   </td><td>    NA</td><td>    NA</td><td>    NA</td><td>    NA</td><td>    NA</td><td>    NA</td><td>    NA</td><td>    NA</td><td>    NA</td><td>    NA</td></tr>\n",
       "\t<tr><th scope=row>sp|A0A0C4DH25|KVD20_HUMAN;sp|P01619|KV320_HUMAN</th><td>    NA</td><td>    NA</td><td>    NA</td><td>11.443</td><td>    NA</td><td>    NA</td><td>    NA</td><td>    NA</td><td>    NA</td><td>    NA</td><td>...   </td><td>    NA</td><td>    NA</td><td>    NA</td><td>    NA</td><td>    NA</td><td>    NA</td><td>    NA</td><td>    NA</td><td>    NA</td><td>    NA</td></tr>\n",
       "\t<tr><th scope=row>sp|A0A0U1RRE5|NBDY_HUMAN</th><td>13.970</td><td>    NA</td><td>    NA</td><td>    NA</td><td>    NA</td><td>    NA</td><td>    NA</td><td>    NA</td><td>    NA</td><td>    NA</td><td>...   </td><td>    NA</td><td>14.185</td><td>14.753</td><td>14.812</td><td>    NA</td><td>15.659</td><td>15.389</td><td>14.616</td><td>14.346</td><td>14.881</td></tr>\n",
       "\t<tr><th scope=row>sp|A0A0U1RRL7|MMPOS_HUMAN</th><td>    NA</td><td>16.280</td><td>    NA</td><td>16.074</td><td>    NA</td><td>    NA</td><td>    NA</td><td>15.504</td><td>    NA</td><td>    NA</td><td>...   </td><td>    NA</td><td>    NA</td><td>    NA</td><td>    NA</td><td>    NA</td><td>    NA</td><td>    NA</td><td>    NA</td><td>    NA</td><td>    NA</td></tr>\n",
       "</tbody>\n",
       "</table>\n"
      ],
      "text/latex": [
       "\\begin{tabular}{r|lllllllllllllllllllllllllllllllllllllllllllllllllllllllllllllllllllllllllllllllllllllllllllllllllllllllllllllllllllllllllllllllllllllllllllllllllllllllllllllllllllllllllllllllllllllllllllllllllllllllllllllllllllllllllllllllllllllllllllllllllllllllllllllllllllllllllllllllllllllllllllllllllllllllllllllllllllllllllllll}\n",
       "  & CTG-0158 & CTG-0159 & CTG-0160 & CTG-0162 & CTG-0163 & CTG-0166 & CTG-0167 & CTG-0178 & CTG-0184 & CTG-0464 & ... & CTG-3794 & CTG-3795 & CTG-3796 & CTG-3797 & CTG-3799 & CTG-3800 & CTG-3801 & CTG-3802 & CTG-3803 & CTG-3805\\\\\n",
       "\\hline\n",
       "\tsp\\textbar{}A0A087WV62\\textbar{}TVB16\\_HUMAN & 15.503 & 14.932 & 14.791 & 15.616 & 15.860 & 15.620 & 14.404 & 17.208 & 15.961 & 14.648 & ...    &     NA &     NA &     NA &     NA &     NA &     NA &     NA &     NA &     NA &     NA\\\\\n",
       "\tsp\\textbar{}A0A0B4J2D5\\textbar{}GAL3B\\_HUMAN;sp\\textbar{}P0DPI2\\textbar{}GAL3A\\_HUMAN & 18.058 & 15.959 & 16.403 & 16.609 & 17.808 & 17.707 & 16.961 & 17.071 & 16.576 & 17.171 & ...    & 19.154 & 18.021 & 18.640 & 17.470 & 19.184 & 18.883 & 19.659 & 19.406 & 18.087 & 19.928\\\\\n",
       "\tsp\\textbar{}A0A0B4J2H0\\textbar{}HV69D\\_HUMAN;sp\\textbar{}A0A0C4DH29\\textbar{}HV103\\_HUMAN;sp\\textbar{}P01742\\textbar{}HV169\\_HUMAN;sp\\textbar{}P01743\\textbar{}HV146\\_HUMAN;sp\\textbar{}P0DP01\\textbar{}HV108\\_HUMAN &     NA &     NA &     NA &     NA &     NA &     NA &     NA &     NA & 14.146 &     NA & ...    &     NA &     NA &     NA &     NA &     NA &     NA &     NA &     NA &     NA &     NA\\\\\n",
       "\tsp\\textbar{}A0A0C4DH25\\textbar{}KVD20\\_HUMAN;sp\\textbar{}P01619\\textbar{}KV320\\_HUMAN &     NA &     NA &     NA & 11.443 &     NA &     NA &     NA &     NA &     NA &     NA & ...    &     NA &     NA &     NA &     NA &     NA &     NA &     NA &     NA &     NA &     NA\\\\\n",
       "\tsp\\textbar{}A0A0U1RRE5\\textbar{}NBDY\\_HUMAN & 13.970 &     NA &     NA &     NA &     NA &     NA &     NA &     NA &     NA &     NA & ...    &     NA & 14.185 & 14.753 & 14.812 &     NA & 15.659 & 15.389 & 14.616 & 14.346 & 14.881\\\\\n",
       "\tsp\\textbar{}A0A0U1RRL7\\textbar{}MMPOS\\_HUMAN &     NA & 16.280 &     NA & 16.074 &     NA &     NA &     NA & 15.504 &     NA &     NA & ...    &     NA &     NA &     NA &     NA &     NA &     NA &     NA &     NA &     NA &     NA\\\\\n",
       "\\end{tabular}\n"
      ],
      "text/markdown": [
       "\n",
       "| <!--/--> | CTG-0158 | CTG-0159 | CTG-0160 | CTG-0162 | CTG-0163 | CTG-0166 | CTG-0167 | CTG-0178 | CTG-0184 | CTG-0464 | ... | CTG-3794 | CTG-3795 | CTG-3796 | CTG-3797 | CTG-3799 | CTG-3800 | CTG-3801 | CTG-3802 | CTG-3803 | CTG-3805 |\n",
       "|---|---|---|---|---|---|---|---|---|---|---|---|---|---|---|---|---|---|---|---|---|---|\n",
       "| sp|A0A087WV62|TVB16_HUMAN | 15.503 | 14.932 | 14.791 | 15.616 | 15.860 | 15.620 | 14.404 | 17.208 | 15.961 | 14.648 | ...    |     NA |     NA |     NA |     NA |     NA |     NA |     NA |     NA |     NA |     NA |\n",
       "| sp|A0A0B4J2D5|GAL3B_HUMAN;sp|P0DPI2|GAL3A_HUMAN | 18.058 | 15.959 | 16.403 | 16.609 | 17.808 | 17.707 | 16.961 | 17.071 | 16.576 | 17.171 | ...    | 19.154 | 18.021 | 18.640 | 17.470 | 19.184 | 18.883 | 19.659 | 19.406 | 18.087 | 19.928 |\n",
       "| sp|A0A0B4J2H0|HV69D_HUMAN;sp|A0A0C4DH29|HV103_HUMAN;sp|P01742|HV169_HUMAN;sp|P01743|HV146_HUMAN;sp|P0DP01|HV108_HUMAN |     NA |     NA |     NA |     NA |     NA |     NA |     NA |     NA | 14.146 |     NA | ...    |     NA |     NA |     NA |     NA |     NA |     NA |     NA |     NA |     NA |     NA |\n",
       "| sp|A0A0C4DH25|KVD20_HUMAN;sp|P01619|KV320_HUMAN |     NA |     NA |     NA | 11.443 |     NA |     NA |     NA |     NA |     NA |     NA | ...    |     NA |     NA |     NA |     NA |     NA |     NA |     NA |     NA |     NA |     NA |\n",
       "| sp|A0A0U1RRE5|NBDY_HUMAN | 13.970 |     NA |     NA |     NA |     NA |     NA |     NA |     NA |     NA |     NA | ...    |     NA | 14.185 | 14.753 | 14.812 |     NA | 15.659 | 15.389 | 14.616 | 14.346 | 14.881 |\n",
       "| sp|A0A0U1RRL7|MMPOS_HUMAN |     NA | 16.280 |     NA | 16.074 |     NA |     NA |     NA | 15.504 |     NA |     NA | ...    |     NA |     NA |     NA |     NA |     NA |     NA |     NA |     NA |     NA |     NA |\n",
       "\n"
      ],
      "text/plain": [
       "                                                                                                                      CTG-0158\n",
       "sp|A0A087WV62|TVB16_HUMAN                                                                                             15.503  \n",
       "sp|A0A0B4J2D5|GAL3B_HUMAN;sp|P0DPI2|GAL3A_HUMAN                                                                       18.058  \n",
       "sp|A0A0B4J2H0|HV69D_HUMAN;sp|A0A0C4DH29|HV103_HUMAN;sp|P01742|HV169_HUMAN;sp|P01743|HV146_HUMAN;sp|P0DP01|HV108_HUMAN     NA  \n",
       "sp|A0A0C4DH25|KVD20_HUMAN;sp|P01619|KV320_HUMAN                                                                           NA  \n",
       "sp|A0A0U1RRE5|NBDY_HUMAN                                                                                              13.970  \n",
       "sp|A0A0U1RRL7|MMPOS_HUMAN                                                                                                 NA  \n",
       "                                                                                                                      CTG-0159\n",
       "sp|A0A087WV62|TVB16_HUMAN                                                                                             14.932  \n",
       "sp|A0A0B4J2D5|GAL3B_HUMAN;sp|P0DPI2|GAL3A_HUMAN                                                                       15.959  \n",
       "sp|A0A0B4J2H0|HV69D_HUMAN;sp|A0A0C4DH29|HV103_HUMAN;sp|P01742|HV169_HUMAN;sp|P01743|HV146_HUMAN;sp|P0DP01|HV108_HUMAN     NA  \n",
       "sp|A0A0C4DH25|KVD20_HUMAN;sp|P01619|KV320_HUMAN                                                                           NA  \n",
       "sp|A0A0U1RRE5|NBDY_HUMAN                                                                                                  NA  \n",
       "sp|A0A0U1RRL7|MMPOS_HUMAN                                                                                             16.280  \n",
       "                                                                                                                      CTG-0160\n",
       "sp|A0A087WV62|TVB16_HUMAN                                                                                             14.791  \n",
       "sp|A0A0B4J2D5|GAL3B_HUMAN;sp|P0DPI2|GAL3A_HUMAN                                                                       16.403  \n",
       "sp|A0A0B4J2H0|HV69D_HUMAN;sp|A0A0C4DH29|HV103_HUMAN;sp|P01742|HV169_HUMAN;sp|P01743|HV146_HUMAN;sp|P0DP01|HV108_HUMAN     NA  \n",
       "sp|A0A0C4DH25|KVD20_HUMAN;sp|P01619|KV320_HUMAN                                                                           NA  \n",
       "sp|A0A0U1RRE5|NBDY_HUMAN                                                                                                  NA  \n",
       "sp|A0A0U1RRL7|MMPOS_HUMAN                                                                                                 NA  \n",
       "                                                                                                                      CTG-0162\n",
       "sp|A0A087WV62|TVB16_HUMAN                                                                                             15.616  \n",
       "sp|A0A0B4J2D5|GAL3B_HUMAN;sp|P0DPI2|GAL3A_HUMAN                                                                       16.609  \n",
       "sp|A0A0B4J2H0|HV69D_HUMAN;sp|A0A0C4DH29|HV103_HUMAN;sp|P01742|HV169_HUMAN;sp|P01743|HV146_HUMAN;sp|P0DP01|HV108_HUMAN     NA  \n",
       "sp|A0A0C4DH25|KVD20_HUMAN;sp|P01619|KV320_HUMAN                                                                       11.443  \n",
       "sp|A0A0U1RRE5|NBDY_HUMAN                                                                                                  NA  \n",
       "sp|A0A0U1RRL7|MMPOS_HUMAN                                                                                             16.074  \n",
       "                                                                                                                      CTG-0163\n",
       "sp|A0A087WV62|TVB16_HUMAN                                                                                             15.860  \n",
       "sp|A0A0B4J2D5|GAL3B_HUMAN;sp|P0DPI2|GAL3A_HUMAN                                                                       17.808  \n",
       "sp|A0A0B4J2H0|HV69D_HUMAN;sp|A0A0C4DH29|HV103_HUMAN;sp|P01742|HV169_HUMAN;sp|P01743|HV146_HUMAN;sp|P0DP01|HV108_HUMAN     NA  \n",
       "sp|A0A0C4DH25|KVD20_HUMAN;sp|P01619|KV320_HUMAN                                                                           NA  \n",
       "sp|A0A0U1RRE5|NBDY_HUMAN                                                                                                  NA  \n",
       "sp|A0A0U1RRL7|MMPOS_HUMAN                                                                                                 NA  \n",
       "                                                                                                                      CTG-0166\n",
       "sp|A0A087WV62|TVB16_HUMAN                                                                                             15.620  \n",
       "sp|A0A0B4J2D5|GAL3B_HUMAN;sp|P0DPI2|GAL3A_HUMAN                                                                       17.707  \n",
       "sp|A0A0B4J2H0|HV69D_HUMAN;sp|A0A0C4DH29|HV103_HUMAN;sp|P01742|HV169_HUMAN;sp|P01743|HV146_HUMAN;sp|P0DP01|HV108_HUMAN     NA  \n",
       "sp|A0A0C4DH25|KVD20_HUMAN;sp|P01619|KV320_HUMAN                                                                           NA  \n",
       "sp|A0A0U1RRE5|NBDY_HUMAN                                                                                                  NA  \n",
       "sp|A0A0U1RRL7|MMPOS_HUMAN                                                                                                 NA  \n",
       "                                                                                                                      CTG-0167\n",
       "sp|A0A087WV62|TVB16_HUMAN                                                                                             14.404  \n",
       "sp|A0A0B4J2D5|GAL3B_HUMAN;sp|P0DPI2|GAL3A_HUMAN                                                                       16.961  \n",
       "sp|A0A0B4J2H0|HV69D_HUMAN;sp|A0A0C4DH29|HV103_HUMAN;sp|P01742|HV169_HUMAN;sp|P01743|HV146_HUMAN;sp|P0DP01|HV108_HUMAN     NA  \n",
       "sp|A0A0C4DH25|KVD20_HUMAN;sp|P01619|KV320_HUMAN                                                                           NA  \n",
       "sp|A0A0U1RRE5|NBDY_HUMAN                                                                                                  NA  \n",
       "sp|A0A0U1RRL7|MMPOS_HUMAN                                                                                                 NA  \n",
       "                                                                                                                      CTG-0178\n",
       "sp|A0A087WV62|TVB16_HUMAN                                                                                             17.208  \n",
       "sp|A0A0B4J2D5|GAL3B_HUMAN;sp|P0DPI2|GAL3A_HUMAN                                                                       17.071  \n",
       "sp|A0A0B4J2H0|HV69D_HUMAN;sp|A0A0C4DH29|HV103_HUMAN;sp|P01742|HV169_HUMAN;sp|P01743|HV146_HUMAN;sp|P0DP01|HV108_HUMAN     NA  \n",
       "sp|A0A0C4DH25|KVD20_HUMAN;sp|P01619|KV320_HUMAN                                                                           NA  \n",
       "sp|A0A0U1RRE5|NBDY_HUMAN                                                                                                  NA  \n",
       "sp|A0A0U1RRL7|MMPOS_HUMAN                                                                                             15.504  \n",
       "                                                                                                                      CTG-0184\n",
       "sp|A0A087WV62|TVB16_HUMAN                                                                                             15.961  \n",
       "sp|A0A0B4J2D5|GAL3B_HUMAN;sp|P0DPI2|GAL3A_HUMAN                                                                       16.576  \n",
       "sp|A0A0B4J2H0|HV69D_HUMAN;sp|A0A0C4DH29|HV103_HUMAN;sp|P01742|HV169_HUMAN;sp|P01743|HV146_HUMAN;sp|P0DP01|HV108_HUMAN 14.146  \n",
       "sp|A0A0C4DH25|KVD20_HUMAN;sp|P01619|KV320_HUMAN                                                                           NA  \n",
       "sp|A0A0U1RRE5|NBDY_HUMAN                                                                                                  NA  \n",
       "sp|A0A0U1RRL7|MMPOS_HUMAN                                                                                                 NA  \n",
       "                                                                                                                      CTG-0464\n",
       "sp|A0A087WV62|TVB16_HUMAN                                                                                             14.648  \n",
       "sp|A0A0B4J2D5|GAL3B_HUMAN;sp|P0DPI2|GAL3A_HUMAN                                                                       17.171  \n",
       "sp|A0A0B4J2H0|HV69D_HUMAN;sp|A0A0C4DH29|HV103_HUMAN;sp|P01742|HV169_HUMAN;sp|P01743|HV146_HUMAN;sp|P0DP01|HV108_HUMAN     NA  \n",
       "sp|A0A0C4DH25|KVD20_HUMAN;sp|P01619|KV320_HUMAN                                                                           NA  \n",
       "sp|A0A0U1RRE5|NBDY_HUMAN                                                                                                  NA  \n",
       "sp|A0A0U1RRL7|MMPOS_HUMAN                                                                                                 NA  \n",
       "                                                                                                                      ...\n",
       "sp|A0A087WV62|TVB16_HUMAN                                                                                             ...\n",
       "sp|A0A0B4J2D5|GAL3B_HUMAN;sp|P0DPI2|GAL3A_HUMAN                                                                       ...\n",
       "sp|A0A0B4J2H0|HV69D_HUMAN;sp|A0A0C4DH29|HV103_HUMAN;sp|P01742|HV169_HUMAN;sp|P01743|HV146_HUMAN;sp|P0DP01|HV108_HUMAN ...\n",
       "sp|A0A0C4DH25|KVD20_HUMAN;sp|P01619|KV320_HUMAN                                                                       ...\n",
       "sp|A0A0U1RRE5|NBDY_HUMAN                                                                                              ...\n",
       "sp|A0A0U1RRL7|MMPOS_HUMAN                                                                                             ...\n",
       "                                                                                                                      CTG-3794\n",
       "sp|A0A087WV62|TVB16_HUMAN                                                                                                 NA  \n",
       "sp|A0A0B4J2D5|GAL3B_HUMAN;sp|P0DPI2|GAL3A_HUMAN                                                                       19.154  \n",
       "sp|A0A0B4J2H0|HV69D_HUMAN;sp|A0A0C4DH29|HV103_HUMAN;sp|P01742|HV169_HUMAN;sp|P01743|HV146_HUMAN;sp|P0DP01|HV108_HUMAN     NA  \n",
       "sp|A0A0C4DH25|KVD20_HUMAN;sp|P01619|KV320_HUMAN                                                                           NA  \n",
       "sp|A0A0U1RRE5|NBDY_HUMAN                                                                                                  NA  \n",
       "sp|A0A0U1RRL7|MMPOS_HUMAN                                                                                                 NA  \n",
       "                                                                                                                      CTG-3795\n",
       "sp|A0A087WV62|TVB16_HUMAN                                                                                                 NA  \n",
       "sp|A0A0B4J2D5|GAL3B_HUMAN;sp|P0DPI2|GAL3A_HUMAN                                                                       18.021  \n",
       "sp|A0A0B4J2H0|HV69D_HUMAN;sp|A0A0C4DH29|HV103_HUMAN;sp|P01742|HV169_HUMAN;sp|P01743|HV146_HUMAN;sp|P0DP01|HV108_HUMAN     NA  \n",
       "sp|A0A0C4DH25|KVD20_HUMAN;sp|P01619|KV320_HUMAN                                                                           NA  \n",
       "sp|A0A0U1RRE5|NBDY_HUMAN                                                                                              14.185  \n",
       "sp|A0A0U1RRL7|MMPOS_HUMAN                                                                                                 NA  \n",
       "                                                                                                                      CTG-3796\n",
       "sp|A0A087WV62|TVB16_HUMAN                                                                                                 NA  \n",
       "sp|A0A0B4J2D5|GAL3B_HUMAN;sp|P0DPI2|GAL3A_HUMAN                                                                       18.640  \n",
       "sp|A0A0B4J2H0|HV69D_HUMAN;sp|A0A0C4DH29|HV103_HUMAN;sp|P01742|HV169_HUMAN;sp|P01743|HV146_HUMAN;sp|P0DP01|HV108_HUMAN     NA  \n",
       "sp|A0A0C4DH25|KVD20_HUMAN;sp|P01619|KV320_HUMAN                                                                           NA  \n",
       "sp|A0A0U1RRE5|NBDY_HUMAN                                                                                              14.753  \n",
       "sp|A0A0U1RRL7|MMPOS_HUMAN                                                                                                 NA  \n",
       "                                                                                                                      CTG-3797\n",
       "sp|A0A087WV62|TVB16_HUMAN                                                                                                 NA  \n",
       "sp|A0A0B4J2D5|GAL3B_HUMAN;sp|P0DPI2|GAL3A_HUMAN                                                                       17.470  \n",
       "sp|A0A0B4J2H0|HV69D_HUMAN;sp|A0A0C4DH29|HV103_HUMAN;sp|P01742|HV169_HUMAN;sp|P01743|HV146_HUMAN;sp|P0DP01|HV108_HUMAN     NA  \n",
       "sp|A0A0C4DH25|KVD20_HUMAN;sp|P01619|KV320_HUMAN                                                                           NA  \n",
       "sp|A0A0U1RRE5|NBDY_HUMAN                                                                                              14.812  \n",
       "sp|A0A0U1RRL7|MMPOS_HUMAN                                                                                                 NA  \n",
       "                                                                                                                      CTG-3799\n",
       "sp|A0A087WV62|TVB16_HUMAN                                                                                                 NA  \n",
       "sp|A0A0B4J2D5|GAL3B_HUMAN;sp|P0DPI2|GAL3A_HUMAN                                                                       19.184  \n",
       "sp|A0A0B4J2H0|HV69D_HUMAN;sp|A0A0C4DH29|HV103_HUMAN;sp|P01742|HV169_HUMAN;sp|P01743|HV146_HUMAN;sp|P0DP01|HV108_HUMAN     NA  \n",
       "sp|A0A0C4DH25|KVD20_HUMAN;sp|P01619|KV320_HUMAN                                                                           NA  \n",
       "sp|A0A0U1RRE5|NBDY_HUMAN                                                                                                  NA  \n",
       "sp|A0A0U1RRL7|MMPOS_HUMAN                                                                                                 NA  \n",
       "                                                                                                                      CTG-3800\n",
       "sp|A0A087WV62|TVB16_HUMAN                                                                                                 NA  \n",
       "sp|A0A0B4J2D5|GAL3B_HUMAN;sp|P0DPI2|GAL3A_HUMAN                                                                       18.883  \n",
       "sp|A0A0B4J2H0|HV69D_HUMAN;sp|A0A0C4DH29|HV103_HUMAN;sp|P01742|HV169_HUMAN;sp|P01743|HV146_HUMAN;sp|P0DP01|HV108_HUMAN     NA  \n",
       "sp|A0A0C4DH25|KVD20_HUMAN;sp|P01619|KV320_HUMAN                                                                           NA  \n",
       "sp|A0A0U1RRE5|NBDY_HUMAN                                                                                              15.659  \n",
       "sp|A0A0U1RRL7|MMPOS_HUMAN                                                                                                 NA  \n",
       "                                                                                                                      CTG-3801\n",
       "sp|A0A087WV62|TVB16_HUMAN                                                                                                 NA  \n",
       "sp|A0A0B4J2D5|GAL3B_HUMAN;sp|P0DPI2|GAL3A_HUMAN                                                                       19.659  \n",
       "sp|A0A0B4J2H0|HV69D_HUMAN;sp|A0A0C4DH29|HV103_HUMAN;sp|P01742|HV169_HUMAN;sp|P01743|HV146_HUMAN;sp|P0DP01|HV108_HUMAN     NA  \n",
       "sp|A0A0C4DH25|KVD20_HUMAN;sp|P01619|KV320_HUMAN                                                                           NA  \n",
       "sp|A0A0U1RRE5|NBDY_HUMAN                                                                                              15.389  \n",
       "sp|A0A0U1RRL7|MMPOS_HUMAN                                                                                                 NA  \n",
       "                                                                                                                      CTG-3802\n",
       "sp|A0A087WV62|TVB16_HUMAN                                                                                                 NA  \n",
       "sp|A0A0B4J2D5|GAL3B_HUMAN;sp|P0DPI2|GAL3A_HUMAN                                                                       19.406  \n",
       "sp|A0A0B4J2H0|HV69D_HUMAN;sp|A0A0C4DH29|HV103_HUMAN;sp|P01742|HV169_HUMAN;sp|P01743|HV146_HUMAN;sp|P0DP01|HV108_HUMAN     NA  \n",
       "sp|A0A0C4DH25|KVD20_HUMAN;sp|P01619|KV320_HUMAN                                                                           NA  \n",
       "sp|A0A0U1RRE5|NBDY_HUMAN                                                                                              14.616  \n",
       "sp|A0A0U1RRL7|MMPOS_HUMAN                                                                                                 NA  \n",
       "                                                                                                                      CTG-3803\n",
       "sp|A0A087WV62|TVB16_HUMAN                                                                                                 NA  \n",
       "sp|A0A0B4J2D5|GAL3B_HUMAN;sp|P0DPI2|GAL3A_HUMAN                                                                       18.087  \n",
       "sp|A0A0B4J2H0|HV69D_HUMAN;sp|A0A0C4DH29|HV103_HUMAN;sp|P01742|HV169_HUMAN;sp|P01743|HV146_HUMAN;sp|P0DP01|HV108_HUMAN     NA  \n",
       "sp|A0A0C4DH25|KVD20_HUMAN;sp|P01619|KV320_HUMAN                                                                           NA  \n",
       "sp|A0A0U1RRE5|NBDY_HUMAN                                                                                              14.346  \n",
       "sp|A0A0U1RRL7|MMPOS_HUMAN                                                                                                 NA  \n",
       "                                                                                                                      CTG-3805\n",
       "sp|A0A087WV62|TVB16_HUMAN                                                                                                 NA  \n",
       "sp|A0A0B4J2D5|GAL3B_HUMAN;sp|P0DPI2|GAL3A_HUMAN                                                                       19.928  \n",
       "sp|A0A0B4J2H0|HV69D_HUMAN;sp|A0A0C4DH29|HV103_HUMAN;sp|P01742|HV169_HUMAN;sp|P01743|HV146_HUMAN;sp|P0DP01|HV108_HUMAN     NA  \n",
       "sp|A0A0C4DH25|KVD20_HUMAN;sp|P01619|KV320_HUMAN                                                                           NA  \n",
       "sp|A0A0U1RRE5|NBDY_HUMAN                                                                                              14.881  \n",
       "sp|A0A0U1RRL7|MMPOS_HUMAN                                                                                                 NA  "
      ]
     },
     "metadata": {},
     "output_type": "display_data"
    },
    {
     "name": "stdout",
     "output_type": "stream",
     "text": [
      "[1] 8530  317\n"
     ]
    }
   ],
   "source": [
    "int_mtx <- intensity %>% \n",
    "    select(c('ProteinGroup', 'Sample', 'Intensity'))  %>% \n",
    "    pivot_wider(names_from = Sample, values_from = Intensity, values_fn = mean) %>% \n",
    "#     pivot_wider(names_from = Sample, values_from = Intensity) %>% \n",
    "    column_to_rownames('ProteinGroup')\n",
    "head(int_mtx)\n",
    "print(dim(int_mtx))\n",
    "rm(intensity)  # release memory since using int_mtx from here on"
   ]
  },
  {
   "cell_type": "code",
   "execution_count": 40,
   "id": "87879ef6",
   "metadata": {},
   "outputs": [
    {
     "data": {
      "text/html": [
       "<ol class=list-inline>\n",
       "\t<li>298</li>\n",
       "\t<li>317</li>\n",
       "</ol>\n"
      ],
      "text/latex": [
       "\\begin{enumerate*}\n",
       "\\item 298\n",
       "\\item 317\n",
       "\\end{enumerate*}\n"
      ],
      "text/markdown": [
       "1. 298\n",
       "2. 317\n",
       "\n",
       "\n"
      ],
      "text/plain": [
       "[1] 298 317"
      ]
     },
     "metadata": {},
     "output_type": "display_data"
    }
   ],
   "source": [
    "# If omitting all proteins with NA values, how many rows are left?\n",
    "x <- na.omit(int_mtx)\n",
    "dim(x)"
   ]
  },
  {
   "cell_type": "code",
   "execution_count": 46,
   "id": "30e9560d",
   "metadata": {},
   "outputs": [
    {
     "data": {
      "text/html": [
       "0.508116506612508"
      ],
      "text/latex": [
       "0.508116506612508"
      ],
      "text/markdown": [
       "0.508116506612508"
      ],
      "text/plain": [
       "[1] 0.5081165"
      ]
     },
     "metadata": {},
     "output_type": "display_data"
    }
   ],
   "source": [
    "# proportion of missin values\n",
    "sum(is.na(int_mtx))/(dim(int_mtx)[1] * dim(int_mtx)[2])"
   ]
  },
  {
   "cell_type": "markdown",
   "id": "7dba3322",
   "metadata": {},
   "source": [
    "The intensity is already in log-scale because it has negative values."
   ]
  },
  {
   "cell_type": "markdown",
   "id": "1dbfc9dd",
   "metadata": {},
   "source": [
    "### Check the distribution of the two dimensions"
   ]
  },
  {
   "cell_type": "code",
   "execution_count": 21,
   "id": "962225f4",
   "metadata": {},
   "outputs": [
    {
     "data": {
      "image/png": "[encoded data removed]",
      "text/plain": [
       "Plot with title \"Histogram of Non-NA samples in a protein\""
      ]
     },
     "metadata": {},
     "output_type": "display_data"
    }
   ],
   "source": [
    "# For each protein group, how many samples have intensity values\n",
    "hist(rowSums(!is.na(int_mtx)), breaks = 30,\n",
    "     main = \"Histogram of Non-NA samples in a protein\",\n",
    "     xlab = \"Number of samples that have values in a protein\")  "
   ]
  },
  {
   "cell_type": "code",
   "execution_count": 22,
   "id": "962062cb",
   "metadata": {},
   "outputs": [
    {
     "data": {
      "image/png": "[encoded data removed]",
      "text/plain": [
       "Plot with title \"Histogram of Non-NA proteins in a sample\""
      ]
     },
     "metadata": {},
     "output_type": "display_data"
    }
   ],
   "source": [
    "# For each sample, how many protein groups have intensity values\n",
    "hist(colSums(!is.na(int_mtx)), breaks = 18,\n",
    "     main = \"Histogram of Non-NA proteins in a sample\",\n",
    "     xlab = \"Number of proteins that have values in a sample\")  "
   ]
  },
  {
   "cell_type": "markdown",
   "id": "97e97a0c",
   "metadata": {},
   "source": [
    "## Phosphorilation data"
   ]
  },
  {
   "cell_type": "code",
   "execution_count": 4,
   "id": "23149ea5",
   "metadata": {},
   "outputs": [
    {
     "data": {
      "text/html": [
       "<table>\n",
       "<thead><tr><th scope=col>id</th><th scope=col>ProteinGroupId</th><th scope=col>ProteinGroup</th><th scope=col>PhosLocation_Protein</th><th scope=col>SingleProtein</th><th scope=col>Sample</th><th scope=col>Intensity</th><th scope=col>Counts</th><th scope=col>ProteinGroupName</th><th scope=col>hgnc_symbol</th></tr></thead>\n",
       "<tbody>\n",
       "\t<tr><td>1                        </td><td>A0A0B4J280               </td><td>sp|A0A0B4J280|TVA40_HUMAN</td><td>S85                      </td><td>sp|A0A0B4J280|TVA40_HUMAN</td><td>CTG-0464                 </td><td>10.762                   </td><td> 1737                    </td><td>TVA40_HUMAN              </td><td>TRAV40                   </td></tr>\n",
       "\t<tr><td>2                        </td><td>A0A0B4J280               </td><td>sp|A0A0B4J280|TVA40_HUMAN</td><td>S85                      </td><td>sp|A0A0B4J280|TVA40_HUMAN</td><td>CTG-0502                 </td><td>12.949                   </td><td> 7907                    </td><td>TVA40_HUMAN              </td><td>TRAV40                   </td></tr>\n",
       "\t<tr><td>3                        </td><td>A0A0B4J280               </td><td>sp|A0A0B4J280|TVA40_HUMAN</td><td>S85                      </td><td>sp|A0A0B4J280|TVA40_HUMAN</td><td>CTG-0838                 </td><td>11.048                   </td><td> 2117                    </td><td>TVA40_HUMAN              </td><td>TRAV40                   </td></tr>\n",
       "\t<tr><td>4                        </td><td>A0A0B4J280               </td><td>sp|A0A0B4J280|TVA40_HUMAN</td><td>S85                      </td><td>sp|A0A0B4J280|TVA40_HUMAN</td><td>CTG-0852                 </td><td> 9.974                   </td><td> 1006                    </td><td>TVA40_HUMAN              </td><td>TRAV40                   </td></tr>\n",
       "\t<tr><td>5                        </td><td>A0A0B4J280               </td><td>sp|A0A0B4J280|TVA40_HUMAN</td><td>S85                      </td><td>sp|A0A0B4J280|TVA40_HUMAN</td><td>CTG-1012                 </td><td>14.859                   </td><td>29717                    </td><td>TVA40_HUMAN              </td><td>TRAV40                   </td></tr>\n",
       "\t<tr><td>6                        </td><td>A0A0B4J280               </td><td>sp|A0A0B4J280|TVA40_HUMAN</td><td>S85                      </td><td>sp|A0A0B4J280|TVA40_HUMAN</td><td>CTG-1329                 </td><td>10.467                   </td><td> 1415                    </td><td>TVA40_HUMAN              </td><td>TRAV40                   </td></tr>\n",
       "</tbody>\n",
       "</table>\n"
      ],
      "text/latex": [
       "\\begin{tabular}{r|llllllllll}\n",
       " id & ProteinGroupId & ProteinGroup & PhosLocation\\_Protein & SingleProtein & Sample & Intensity & Counts & ProteinGroupName & hgnc\\_symbol\\\\\n",
       "\\hline\n",
       "\t 1                                               & A0A0B4J280                                      & sp\\textbar{}A0A0B4J280\\textbar{}TVA40\\_HUMAN & S85                                             & sp\\textbar{}A0A0B4J280\\textbar{}TVA40\\_HUMAN & CTG-0464                                        & 10.762                                          &  1737                                           & TVA40\\_HUMAN                                   & TRAV40                                         \\\\\n",
       "\t 2                                               & A0A0B4J280                                      & sp\\textbar{}A0A0B4J280\\textbar{}TVA40\\_HUMAN & S85                                             & sp\\textbar{}A0A0B4J280\\textbar{}TVA40\\_HUMAN & CTG-0502                                        & 12.949                                          &  7907                                           & TVA40\\_HUMAN                                   & TRAV40                                         \\\\\n",
       "\t 3                                               & A0A0B4J280                                      & sp\\textbar{}A0A0B4J280\\textbar{}TVA40\\_HUMAN & S85                                             & sp\\textbar{}A0A0B4J280\\textbar{}TVA40\\_HUMAN & CTG-0838                                        & 11.048                                          &  2117                                           & TVA40\\_HUMAN                                   & TRAV40                                         \\\\\n",
       "\t 4                                               & A0A0B4J280                                      & sp\\textbar{}A0A0B4J280\\textbar{}TVA40\\_HUMAN & S85                                             & sp\\textbar{}A0A0B4J280\\textbar{}TVA40\\_HUMAN & CTG-0852                                        &  9.974                                          &  1006                                           & TVA40\\_HUMAN                                   & TRAV40                                         \\\\\n",
       "\t 5                                               & A0A0B4J280                                      & sp\\textbar{}A0A0B4J280\\textbar{}TVA40\\_HUMAN & S85                                             & sp\\textbar{}A0A0B4J280\\textbar{}TVA40\\_HUMAN & CTG-1012                                        & 14.859                                          & 29717                                           & TVA40\\_HUMAN                                   & TRAV40                                         \\\\\n",
       "\t 6                                               & A0A0B4J280                                      & sp\\textbar{}A0A0B4J280\\textbar{}TVA40\\_HUMAN & S85                                             & sp\\textbar{}A0A0B4J280\\textbar{}TVA40\\_HUMAN & CTG-1329                                        & 10.467                                          &  1415                                           & TVA40\\_HUMAN                                   & TRAV40                                         \\\\\n",
       "\\end{tabular}\n"
      ],
      "text/markdown": [
       "\n",
       "| id | ProteinGroupId | ProteinGroup | PhosLocation_Protein | SingleProtein | Sample | Intensity | Counts | ProteinGroupName | hgnc_symbol |\n",
       "|---|---|---|---|---|---|---|---|---|---|\n",
       "| 1                         | A0A0B4J280                | sp|A0A0B4J280|TVA40_HUMAN | S85                       | sp|A0A0B4J280|TVA40_HUMAN | CTG-0464                  | 10.762                    |  1737                     | TVA40_HUMAN               | TRAV40                    |\n",
       "| 2                         | A0A0B4J280                | sp|A0A0B4J280|TVA40_HUMAN | S85                       | sp|A0A0B4J280|TVA40_HUMAN | CTG-0502                  | 12.949                    |  7907                     | TVA40_HUMAN               | TRAV40                    |\n",
       "| 3                         | A0A0B4J280                | sp|A0A0B4J280|TVA40_HUMAN | S85                       | sp|A0A0B4J280|TVA40_HUMAN | CTG-0838                  | 11.048                    |  2117                     | TVA40_HUMAN               | TRAV40                    |\n",
       "| 4                         | A0A0B4J280                | sp|A0A0B4J280|TVA40_HUMAN | S85                       | sp|A0A0B4J280|TVA40_HUMAN | CTG-0852                  |  9.974                    |  1006                     | TVA40_HUMAN               | TRAV40                    |\n",
       "| 5                         | A0A0B4J280                | sp|A0A0B4J280|TVA40_HUMAN | S85                       | sp|A0A0B4J280|TVA40_HUMAN | CTG-1012                  | 14.859                    | 29717                     | TVA40_HUMAN               | TRAV40                    |\n",
       "| 6                         | A0A0B4J280                | sp|A0A0B4J280|TVA40_HUMAN | S85                       | sp|A0A0B4J280|TVA40_HUMAN | CTG-1329                  | 10.467                    |  1415                     | TVA40_HUMAN               | TRAV40                    |\n",
       "\n"
      ],
      "text/plain": [
       "  id ProteinGroupId ProteinGroup              PhosLocation_Protein\n",
       "1 1  A0A0B4J280     sp|A0A0B4J280|TVA40_HUMAN S85                 \n",
       "2 2  A0A0B4J280     sp|A0A0B4J280|TVA40_HUMAN S85                 \n",
       "3 3  A0A0B4J280     sp|A0A0B4J280|TVA40_HUMAN S85                 \n",
       "4 4  A0A0B4J280     sp|A0A0B4J280|TVA40_HUMAN S85                 \n",
       "5 5  A0A0B4J280     sp|A0A0B4J280|TVA40_HUMAN S85                 \n",
       "6 6  A0A0B4J280     sp|A0A0B4J280|TVA40_HUMAN S85                 \n",
       "  SingleProtein             Sample   Intensity Counts ProteinGroupName\n",
       "1 sp|A0A0B4J280|TVA40_HUMAN CTG-0464 10.762     1737  TVA40_HUMAN     \n",
       "2 sp|A0A0B4J280|TVA40_HUMAN CTG-0502 12.949     7907  TVA40_HUMAN     \n",
       "3 sp|A0A0B4J280|TVA40_HUMAN CTG-0838 11.048     2117  TVA40_HUMAN     \n",
       "4 sp|A0A0B4J280|TVA40_HUMAN CTG-0852  9.974     1006  TVA40_HUMAN     \n",
       "5 sp|A0A0B4J280|TVA40_HUMAN CTG-1012 14.859    29717  TVA40_HUMAN     \n",
       "6 sp|A0A0B4J280|TVA40_HUMAN CTG-1329 10.467     1415  TVA40_HUMAN     \n",
       "  hgnc_symbol\n",
       "1 TRAV40     \n",
       "2 TRAV40     \n",
       "3 TRAV40     \n",
       "4 TRAV40     \n",
       "5 TRAV40     \n",
       "6 TRAV40     "
      ]
     },
     "metadata": {},
     "output_type": "display_data"
    }
   ],
   "source": [
    "# # from /general_analysis/DataBaseUpload/NGS/Proteomics/bin/PhosphoProteomics_PreProccess.html\n",
    "# # `Counts` are just 2 to the power of Intensity. This is for DE analysis where counts are needed\n",
    "# phos <- read.csv(\"../proteomics/data/Protein_phos_data.csv\")\n",
    "# head(phos, 2)"
   ]
  },
  {
   "cell_type": "code",
   "execution_count": 49,
   "id": "50716f1a",
   "metadata": {},
   "outputs": [
    {
     "data": {
      "text/html": [
       "<table>\n",
       "<thead><tr><th></th><th scope=col>CTG-0464</th><th scope=col>CTG-0502</th><th scope=col>CTG-0838</th><th scope=col>CTG-0852</th><th scope=col>CTG-1012</th><th scope=col>CTG-1329</th><th scope=col>CTG-1352</th><th scope=col>CTG-1355</th><th scope=col>CTG-1360</th><th scope=col>CTG-1361</th><th scope=col>...</th><th scope=col>CTG-3799</th><th scope=col>CTG-2716</th><th scope=col>CTG-3064</th><th scope=col>CTG-3766</th><th scope=col>CTG-3793</th><th scope=col>CTG-3794</th><th scope=col>CTG-3796</th><th scope=col>CTG-3800</th><th scope=col>CTG-3801</th><th scope=col>CTG-3802</th></tr></thead>\n",
       "<tbody>\n",
       "\t<tr><th scope=row>sp|A0A0B4J280|TVA40_HUMAN</th><td>  1737  </td><td> 7907.00</td><td>  2117.0</td><td>  1006.0</td><td> 29717  </td><td>  1415  </td><td>  9002.0</td><td> 2095.00</td><td> 9933   </td><td>17487.00</td><td>...     </td><td>      NA</td><td>   NA   </td><td>     NA </td><td>      NA</td><td>      NA</td><td>      NA</td><td>      NA</td><td>      NA</td><td>      NA</td><td>      NA</td></tr>\n",
       "\t<tr><th scope=row>sp|A0A0B4J2F2|SIK1B_HUMAN;sp|P57059|SIK1_HUMAN</th><td> 85108  </td><td>      NA</td><td> 24920.0</td><td>      NA</td><td> 19163  </td><td>    NA  </td><td> 28493.0</td><td>      NA</td><td>34998   </td><td>      NA</td><td>...     </td><td> 44269.0</td><td>   NA   </td><td>     NA </td><td>      NA</td><td>      NA</td><td>      NA</td><td>      NA</td><td>      NA</td><td>      NA</td><td>      NA</td></tr>\n",
       "\t<tr><th scope=row>sp|A0AV96|RBM47_HUMAN</th><td>100790  </td><td> 7691.00</td><td>213370.0</td><td>158486.0</td><td> 13950  </td><td> 54956  </td><td> 60515.0</td><td>65764.00</td><td>   NA   </td><td>99886.00</td><td>...     </td><td>      NA</td><td>   NA   </td><td>     NA </td><td>      NA</td><td>      NA</td><td>      NA</td><td>      NA</td><td>      NA</td><td>      NA</td><td>      NA</td></tr>\n",
       "\t<tr><th scope=row>sp|A0AVK6|E2F8_HUMAN</th><td>    NA  </td><td>      NA</td><td>  5379.0</td><td> 47413.0</td><td> 48983  </td><td>    NA  </td><td> 13654.0</td><td>      NA</td><td>16613   </td><td>      NA</td><td>...     </td><td>142175.5</td><td>57970   </td><td> 7097.0 </td><td>74606.25</td><td>201621.5</td><td>117374.0</td><td>79821.33</td><td>484060.7</td><td>296613.3</td><td>161540.5</td></tr>\n",
       "\t<tr><th scope=row>sp|A0AVT1|UBA6_HUMAN</th><td>  7297  </td><td> 7186.00</td><td> 10241.0</td><td>127135.0</td><td>102339  </td><td>  7221  </td><td> 14951.0</td><td>      NA</td><td> 5753   </td><td>11075.00</td><td>...     </td><td> 15896.0</td><td> 6992   </td><td>17227.5 </td><td>19014.00</td><td> 27799.5</td><td> 32364.5</td><td>37154.00</td><td> 53121.0</td><td> 21865.0</td><td> 38245.0</td></tr>\n",
       "\t<tr><th scope=row>sp|A0FGR8|ESYT2_HUMAN</th><td> 45663  </td><td>23800.67</td><td>106055.7</td><td>124390.3</td><td> 17854  </td><td>156255  </td><td>118950.3</td><td>32271.33</td><td>17892   </td><td>64168.33</td><td>...     </td><td> 59269.0</td><td>60893   </td><td> 4523.0 </td><td> 8164.00</td><td> 13373.0</td><td>  9548.0</td><td>33364.00</td><td> 14125.0</td><td>      NA</td><td> 29553.0</td></tr>\n",
       "</tbody>\n",
       "</table>\n"
      ],
      "text/latex": [
       "\\begin{tabular}{r|lllllllllllllllllllllllllllllllllllllllllllllllllllllllllllllllllllllllllllllllllllllllllllllllllllllllllllllllllllllllllllllllllllllllllllllllllllllllllllllllllllllllllllllllllllllllllllllllllllllllllllllllll}\n",
       "  & CTG-0464 & CTG-0502 & CTG-0838 & CTG-0852 & CTG-1012 & CTG-1329 & CTG-1352 & CTG-1355 & CTG-1360 & CTG-1361 & ... & CTG-3799 & CTG-2716 & CTG-3064 & CTG-3766 & CTG-3793 & CTG-3794 & CTG-3796 & CTG-3800 & CTG-3801 & CTG-3802\\\\\n",
       "\\hline\n",
       "\tsp\\textbar{}A0A0B4J280\\textbar{}TVA40\\_HUMAN &   1737   &  7907.00 &   2117.0 &   1006.0 &  29717   &   1415   &   9002.0 &  2095.00 &  9933    & 17487.00 & ...      &       NA &    NA    &      NA  &       NA &       NA &       NA &       NA &       NA &       NA &       NA\\\\\n",
       "\tsp\\textbar{}A0A0B4J2F2\\textbar{}SIK1B\\_HUMAN;sp\\textbar{}P57059\\textbar{}SIK1\\_HUMAN &  85108   &       NA &  24920.0 &       NA &  19163   &     NA   &  28493.0 &       NA & 34998    &       NA & ...      &  44269.0 &    NA    &      NA  &       NA &       NA &       NA &       NA &       NA &       NA &       NA\\\\\n",
       "\tsp\\textbar{}A0AV96\\textbar{}RBM47\\_HUMAN & 100790   &  7691.00 & 213370.0 & 158486.0 &  13950   &  54956   &  60515.0 & 65764.00 &    NA    & 99886.00 & ...      &       NA &    NA    &      NA  &       NA &       NA &       NA &       NA &       NA &       NA &       NA\\\\\n",
       "\tsp\\textbar{}A0AVK6\\textbar{}E2F8\\_HUMAN &     NA   &       NA &   5379.0 &  47413.0 &  48983   &     NA   &  13654.0 &       NA & 16613    &       NA & ...      & 142175.5 & 57970    &  7097.0  & 74606.25 & 201621.5 & 117374.0 & 79821.33 & 484060.7 & 296613.3 & 161540.5\\\\\n",
       "\tsp\\textbar{}A0AVT1\\textbar{}UBA6\\_HUMAN &   7297   &  7186.00 &  10241.0 & 127135.0 & 102339   &   7221   &  14951.0 &       NA &  5753    & 11075.00 & ...      &  15896.0 &  6992    & 17227.5  & 19014.00 &  27799.5 &  32364.5 & 37154.00 &  53121.0 &  21865.0 &  38245.0\\\\\n",
       "\tsp\\textbar{}A0FGR8\\textbar{}ESYT2\\_HUMAN &  45663   & 23800.67 & 106055.7 & 124390.3 &  17854   & 156255   & 118950.3 & 32271.33 & 17892    & 64168.33 & ...      &  59269.0 & 60893    &  4523.0  &  8164.00 &  13373.0 &   9548.0 & 33364.00 &  14125.0 &       NA &  29553.0\\\\\n",
       "\\end{tabular}\n"
      ],
      "text/markdown": [
       "\n",
       "| <!--/--> | CTG-0464 | CTG-0502 | CTG-0838 | CTG-0852 | CTG-1012 | CTG-1329 | CTG-1352 | CTG-1355 | CTG-1360 | CTG-1361 | ... | CTG-3799 | CTG-2716 | CTG-3064 | CTG-3766 | CTG-3793 | CTG-3794 | CTG-3796 | CTG-3800 | CTG-3801 | CTG-3802 |\n",
       "|---|---|---|---|---|---|---|---|---|---|---|---|---|---|---|---|---|---|---|---|---|---|\n",
       "| sp|A0A0B4J280|TVA40_HUMAN |   1737   |  7907.00 |   2117.0 |   1006.0 |  29717   |   1415   |   9002.0 |  2095.00 |  9933    | 17487.00 | ...      |       NA |    NA    |      NA  |       NA |       NA |       NA |       NA |       NA |       NA |       NA |\n",
       "| sp|A0A0B4J2F2|SIK1B_HUMAN;sp|P57059|SIK1_HUMAN |  85108   |       NA |  24920.0 |       NA |  19163   |     NA   |  28493.0 |       NA | 34998    |       NA | ...      |  44269.0 |    NA    |      NA  |       NA |       NA |       NA |       NA |       NA |       NA |       NA |\n",
       "| sp|A0AV96|RBM47_HUMAN | 100790   |  7691.00 | 213370.0 | 158486.0 |  13950   |  54956   |  60515.0 | 65764.00 |    NA    | 99886.00 | ...      |       NA |    NA    |      NA  |       NA |       NA |       NA |       NA |       NA |       NA |       NA |\n",
       "| sp|A0AVK6|E2F8_HUMAN |     NA   |       NA |   5379.0 |  47413.0 |  48983   |     NA   |  13654.0 |       NA | 16613    |       NA | ...      | 142175.5 | 57970    |  7097.0  | 74606.25 | 201621.5 | 117374.0 | 79821.33 | 484060.7 | 296613.3 | 161540.5 |\n",
       "| sp|A0AVT1|UBA6_HUMAN |   7297   |  7186.00 |  10241.0 | 127135.0 | 102339   |   7221   |  14951.0 |       NA |  5753    | 11075.00 | ...      |  15896.0 |  6992    | 17227.5  | 19014.00 |  27799.5 |  32364.5 | 37154.00 |  53121.0 |  21865.0 |  38245.0 |\n",
       "| sp|A0FGR8|ESYT2_HUMAN |  45663   | 23800.67 | 106055.7 | 124390.3 |  17854   | 156255   | 118950.3 | 32271.33 | 17892    | 64168.33 | ...      |  59269.0 | 60893    |  4523.0  |  8164.00 |  13373.0 |   9548.0 | 33364.00 |  14125.0 |       NA |  29553.0 |\n",
       "\n"
      ],
      "text/plain": [
       "                                               CTG-0464 CTG-0502 CTG-0838\n",
       "sp|A0A0B4J280|TVA40_HUMAN                        1737    7907.00   2117.0\n",
       "sp|A0A0B4J2F2|SIK1B_HUMAN;sp|P57059|SIK1_HUMAN  85108         NA  24920.0\n",
       "sp|A0AV96|RBM47_HUMAN                          100790    7691.00 213370.0\n",
       "sp|A0AVK6|E2F8_HUMAN                               NA         NA   5379.0\n",
       "sp|A0AVT1|UBA6_HUMAN                             7297    7186.00  10241.0\n",
       "sp|A0FGR8|ESYT2_HUMAN                           45663   23800.67 106055.7\n",
       "                                               CTG-0852 CTG-1012 CTG-1329\n",
       "sp|A0A0B4J280|TVA40_HUMAN                        1006.0  29717     1415  \n",
       "sp|A0A0B4J2F2|SIK1B_HUMAN;sp|P57059|SIK1_HUMAN       NA  19163       NA  \n",
       "sp|A0AV96|RBM47_HUMAN                          158486.0  13950    54956  \n",
       "sp|A0AVK6|E2F8_HUMAN                            47413.0  48983       NA  \n",
       "sp|A0AVT1|UBA6_HUMAN                           127135.0 102339     7221  \n",
       "sp|A0FGR8|ESYT2_HUMAN                          124390.3  17854   156255  \n",
       "                                               CTG-1352 CTG-1355 CTG-1360\n",
       "sp|A0A0B4J280|TVA40_HUMAN                        9002.0  2095.00  9933   \n",
       "sp|A0A0B4J2F2|SIK1B_HUMAN;sp|P57059|SIK1_HUMAN  28493.0       NA 34998   \n",
       "sp|A0AV96|RBM47_HUMAN                           60515.0 65764.00    NA   \n",
       "sp|A0AVK6|E2F8_HUMAN                            13654.0       NA 16613   \n",
       "sp|A0AVT1|UBA6_HUMAN                            14951.0       NA  5753   \n",
       "sp|A0FGR8|ESYT2_HUMAN                          118950.3 32271.33 17892   \n",
       "                                               CTG-1361 ... CTG-3799 CTG-2716\n",
       "sp|A0A0B4J280|TVA40_HUMAN                      17487.00 ...       NA    NA   \n",
       "sp|A0A0B4J2F2|SIK1B_HUMAN;sp|P57059|SIK1_HUMAN       NA ...  44269.0    NA   \n",
       "sp|A0AV96|RBM47_HUMAN                          99886.00 ...       NA    NA   \n",
       "sp|A0AVK6|E2F8_HUMAN                                 NA ... 142175.5 57970   \n",
       "sp|A0AVT1|UBA6_HUMAN                           11075.00 ...  15896.0  6992   \n",
       "sp|A0FGR8|ESYT2_HUMAN                          64168.33 ...  59269.0 60893   \n",
       "                                               CTG-3064 CTG-3766 CTG-3793\n",
       "sp|A0A0B4J280|TVA40_HUMAN                           NA        NA       NA\n",
       "sp|A0A0B4J2F2|SIK1B_HUMAN;sp|P57059|SIK1_HUMAN      NA        NA       NA\n",
       "sp|A0AV96|RBM47_HUMAN                               NA        NA       NA\n",
       "sp|A0AVK6|E2F8_HUMAN                            7097.0  74606.25 201621.5\n",
       "sp|A0AVT1|UBA6_HUMAN                           17227.5  19014.00  27799.5\n",
       "sp|A0FGR8|ESYT2_HUMAN                           4523.0   8164.00  13373.0\n",
       "                                               CTG-3794 CTG-3796 CTG-3800\n",
       "sp|A0A0B4J280|TVA40_HUMAN                            NA       NA       NA\n",
       "sp|A0A0B4J2F2|SIK1B_HUMAN;sp|P57059|SIK1_HUMAN       NA       NA       NA\n",
       "sp|A0AV96|RBM47_HUMAN                                NA       NA       NA\n",
       "sp|A0AVK6|E2F8_HUMAN                           117374.0 79821.33 484060.7\n",
       "sp|A0AVT1|UBA6_HUMAN                            32364.5 37154.00  53121.0\n",
       "sp|A0FGR8|ESYT2_HUMAN                            9548.0 33364.00  14125.0\n",
       "                                               CTG-3801 CTG-3802\n",
       "sp|A0A0B4J280|TVA40_HUMAN                            NA       NA\n",
       "sp|A0A0B4J2F2|SIK1B_HUMAN;sp|P57059|SIK1_HUMAN       NA       NA\n",
       "sp|A0AV96|RBM47_HUMAN                                NA       NA\n",
       "sp|A0AVK6|E2F8_HUMAN                           296613.3 161540.5\n",
       "sp|A0AVT1|UBA6_HUMAN                            21865.0  38245.0\n",
       "sp|A0FGR8|ESYT2_HUMAN                                NA  29553.0"
      ]
     },
     "metadata": {},
     "output_type": "display_data"
    },
    {
     "name": "stdout",
     "output_type": "stream",
     "text": [
      "[1] 5680  209\n"
     ]
    }
   ],
   "source": [
    "# phos_int <- phos %>% \n",
    "#     select(c('ProteinGroup', 'Sample', 'Counts'))  %>% \n",
    "#     pivot_wider(names_from = Sample, values_from = Counts, values_fn = mean) %>% \n",
    "# #     pivot_wider(names_from = Sample, values_from = Intensity) %>% \n",
    "#     column_to_rownames('ProteinGroup')\n",
    "# rm(phos)\n",
    "# head(phos_int, 2)\n",
    "# print(dim(phos_int))"
   ]
  },
  {
   "cell_type": "code",
   "execution_count": 42,
   "id": "7f449d9b",
   "metadata": {},
   "outputs": [
    {
     "data": {
      "text/html": [
       "<ol class=list-inline>\n",
       "\t<li>135</li>\n",
       "\t<li>209</li>\n",
       "</ol>\n"
      ],
      "text/latex": [
       "\\begin{enumerate*}\n",
       "\\item 135\n",
       "\\item 209\n",
       "\\end{enumerate*}\n"
      ],
      "text/markdown": [
       "1. 135\n",
       "2. 209\n",
       "\n",
       "\n"
      ],
      "text/plain": [
       "[1] 135 209"
      ]
     },
     "metadata": {},
     "output_type": "display_data"
    }
   ],
   "source": [
    "# x <- na.omit(phos_int)\n",
    "# dim(x)"
   ]
  },
  {
   "cell_type": "code",
   "execution_count": 50,
   "id": "2237ac85",
   "metadata": {},
   "outputs": [
    {
     "data": {
      "text/html": [
       "0.555521766965429"
      ],
      "text/latex": [
       "0.555521766965429"
      ],
      "text/markdown": [
       "0.555521766965429"
      ],
      "text/plain": [
       "[1] 0.5555218"
      ]
     },
     "metadata": {},
     "output_type": "display_data"
    }
   ],
   "source": [
    "# # proportion of missin values\n",
    "# sum(is.na(phos_int))/(dim(phos_int)[1] * dim(phos_int)[2])"
   ]
  }
 ],
 "metadata": {
  "kernelspec": {
   "display_name": "R",
   "language": "R",
   "name": "ir"
  },
  "language_info": {
   "codemirror_mode": "r",
   "file_extension": ".r",
   "mimetype": "text/x-r-source",
   "name": "R",
   "pygments_lexer": "r",
   "version": "3.6.1"
  }
 },
 "nbformat": 4,
 "nbformat_minor": 5
}
