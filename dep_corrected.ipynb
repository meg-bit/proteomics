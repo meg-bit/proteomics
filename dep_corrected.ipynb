{
 "cells": [
  {
   "cell_type": "code",
   "execution_count": 2,
   "id": "3959b4da",
   "metadata": {},
   "outputs": [],
   "source": [
    "# cran packages\n",
    "x <- c('dplyr',\n",
    "       'data.table',\n",
    "       'tidyr',   \n",
    "       'tidyverse', \n",
    "       'ggplot2', \n",
    "       'plotly')\n",
    "# bioconductor packages\n",
    "y <- c('DEP', \n",
    "       'limma', \n",
    "       'DESeq2', \n",
    "       'SummarizedExperiment')"
   ]
  },
  {
   "cell_type": "code",
   "execution_count": null,
   "id": "e08c3c14",
   "metadata": {},
   "outputs": [],
   "source": [
    "# install cran packages\n",
    "for (pkg in x) {\n",
    "    if (!pkg %in% rownames(installed.packages())) {install.packages(pkg)}\n",
    "}"
   ]
  },
  {
   "cell_type": "code",
   "execution_count": null,
   "id": "8115ab59",
   "metadata": {},
   "outputs": [],
   "source": [
    "# install bioconductor packages\n",
    "if (!requireNamespace(\"BiocManager\", quietly=TRUE))\n",
    "    install.packages(\"BiocManager\")\n",
    "for (pkg in y) {\n",
    "    if (!requireNamespace(pkg, quietly=TRUE)) {\n",
    "        BiocManager::install(pkg)\n",
    "    }\n",
    "}"
   ]
  },
  {
   "cell_type": "code",
   "execution_count": 3,
   "id": "82f97520",
   "metadata": {},
   "outputs": [],
   "source": [
    "# load packages\n",
    "load_lib <- function(x) {\n",
    "    suppressPackageStartupMessages(library(x, character.only = TRUE))\n",
    "}\n",
    "invisible(lapply(c(x, y), load_lib))"
   ]
  },
  {
   "cell_type": "markdown",
   "id": "0e0dfec3",
   "metadata": {},
   "source": [
    "## Data\n",
    "\n",
    "The SummarizedExperiment object has a couple of specifications. The log2-transformed assay data and the specified rowData and colData columns are prerequisites for the subsequent analysis steps.\n",
    "- The assay data is log2-transformed. \n",
    "- Its rownames depict the protein/gene names. The rowData contains, amongst others, the ‘name’ and ‘ID’ columns.\n",
    "- The colData contains the experimental design and thereby the sample annotation. Thereby the colData includes the ‘label’, ‘condition’ and ‘replicate’ columns as well as a newly generated ‘ID’ column.  "
   ]
  },
  {
   "cell_type": "code",
   "execution_count": 25,
   "id": "93bbc1a7",
   "metadata": {},
   "outputs": [],
   "source": [
    "data <- readRDS('./data/AMLproteomics_imp_norm_se_list2021-04-06.rds')\n",
    "data <- data$lenient  # choose conservative or lenient\n",
    "# The following is to format the data to match the function requirement \n",
    "colData(data) <- subset(colData(data), select = -c(condition, replicate)) \n",
    "names(colData(data))[names(colData(data)) == 'Treatment.history'] <- 'condition'\n",
    "colData(data)$condition  <- as.factor(colData(data)$condition) # need to be factors for deseq2\n",
    "colData(data)$replicate <- colData(data)$ID \n",
    "colData(data) <- subset(colData(data), select = c(ID, label, condition, replicate, Diagnosis))\n",
    "data <- data[, !is.na(colData(data)$condition)] # remove samples with NA condition"
   ]
  },
  {
   "cell_type": "code",
   "execution_count": 26,
   "id": "21a2608e",
   "metadata": {},
   "outputs": [
    {
     "data": {
      "text/plain": [
       "class: SummarizedExperiment \n",
       "dim: 4688 44 \n",
       "metadata(0):\n",
       "assays(1): ''\n",
       "rownames(4688): A2M A8MWD9 ... ZYX ZZEF1\n",
       "rowData names(6): hgnc_symbol ProteinGroupId ... imputed num_NAs\n",
       "colnames(44): CTG_2226 CTG_2227 ... CTG_3679 CTG_3680\n",
       "colData names(5): ID label condition replicate Diagnosis"
      ]
     },
     "metadata": {},
     "output_type": "display_data"
    }
   ],
   "source": [
    "data"
   ]
  },
  {
   "cell_type": "code",
   "execution_count": 27,
   "id": "41370016",
   "metadata": {},
   "outputs": [
    {
     "data": {
      "text/html": [
       "<style>\n",
       ".list-inline {list-style: none; margin:0; padding: 0}\n",
       ".list-inline>li {display: inline-block}\n",
       ".list-inline>li:not(:last-child)::after {content: \"\\00b7\"; padding: 0 .5ex}\n",
       "</style>\n",
       "<ol class=list-inline><li>4688</li><li>44</li></ol>\n"
      ],
      "text/latex": [
       "\\begin{enumerate*}\n",
       "\\item 4688\n",
       "\\item 44\n",
       "\\end{enumerate*}\n"
      ],
      "text/markdown": [
       "1. 4688\n",
       "2. 44\n",
       "\n",
       "\n"
      ],
      "text/plain": [
       "[1] 4688   44"
      ]
     },
     "metadata": {},
     "output_type": "display_data"
    },
    {
     "data": {
      "text/html": [
       "<table class=\"dataframe\">\n",
       "<caption>A matrix: 2 × 44 of type dbl</caption>\n",
       "<thead>\n",
       "\t<tr><th></th><th scope=col>CTG_2226</th><th scope=col>CTG_2227</th><th scope=col>CTG_2228</th><th scope=col>CTG_2229</th><th scope=col>CTG_2232</th><th scope=col>CTG_2233</th><th scope=col>CTG_2234</th><th scope=col>CTG_2235</th><th scope=col>CTG_2236</th><th scope=col>CTG_2238</th><th scope=col>...</th><th scope=col>CTG_3441</th><th scope=col>CTG_3659</th><th scope=col>CTG_3660</th><th scope=col>CTG_3661</th><th scope=col>CTG_3663</th><th scope=col>CTG_3670</th><th scope=col>CTG_3673</th><th scope=col>CTG_3674</th><th scope=col>CTG_3679</th><th scope=col>CTG_3680</th></tr>\n",
       "</thead>\n",
       "<tbody>\n",
       "\t<tr><th scope=row>A2M</th><td>15.386</td><td>15.65601</td><td>16.38401</td><td>14.84999</td><td>15.84399</td><td>13.96596</td><td>13.74704</td><td>12.77808</td><td>14.961</td><td>16.10501</td><td>...</td><td>14.04397</td><td>14.16703</td><td>14.633</td><td>14.19599</td><td>14.85599</td><td>16.511</td><td>16.103</td><td>13.30307</td><td>16.764</td><td>14.975</td></tr>\n",
       "\t<tr><th scope=row>A8MWD9</th><td>18.122</td><td>18.84500</td><td>18.90100</td><td>19.04300</td><td>18.11900</td><td>18.30000</td><td>18.77900</td><td>18.71000</td><td>19.251</td><td>18.82300</td><td>...</td><td>19.03400</td><td>18.22900</td><td>18.100</td><td>18.99500</td><td>18.63300</td><td>18.798</td><td>18.729</td><td>18.82300</td><td>18.432</td><td>18.730</td></tr>\n",
       "</tbody>\n",
       "</table>\n"
      ],
      "text/latex": [
       "A matrix: 2 × 44 of type dbl\n",
       "\\begin{tabular}{r|lllllllllllllllllllll}\n",
       "  & CTG\\_2226 & CTG\\_2227 & CTG\\_2228 & CTG\\_2229 & CTG\\_2232 & CTG\\_2233 & CTG\\_2234 & CTG\\_2235 & CTG\\_2236 & CTG\\_2238 & ... & CTG\\_3441 & CTG\\_3659 & CTG\\_3660 & CTG\\_3661 & CTG\\_3663 & CTG\\_3670 & CTG\\_3673 & CTG\\_3674 & CTG\\_3679 & CTG\\_3680\\\\\n",
       "\\hline\n",
       "\tA2M & 15.386 & 15.65601 & 16.38401 & 14.84999 & 15.84399 & 13.96596 & 13.74704 & 12.77808 & 14.961 & 16.10501 & ... & 14.04397 & 14.16703 & 14.633 & 14.19599 & 14.85599 & 16.511 & 16.103 & 13.30307 & 16.764 & 14.975\\\\\n",
       "\tA8MWD9 & 18.122 & 18.84500 & 18.90100 & 19.04300 & 18.11900 & 18.30000 & 18.77900 & 18.71000 & 19.251 & 18.82300 & ... & 19.03400 & 18.22900 & 18.100 & 18.99500 & 18.63300 & 18.798 & 18.729 & 18.82300 & 18.432 & 18.730\\\\\n",
       "\\end{tabular}\n"
      ],
      "text/markdown": [
       "\n",
       "A matrix: 2 × 44 of type dbl\n",
       "\n",
       "| <!--/--> | CTG_2226 | CTG_2227 | CTG_2228 | CTG_2229 | CTG_2232 | CTG_2233 | CTG_2234 | CTG_2235 | CTG_2236 | CTG_2238 | ... | CTG_3441 | CTG_3659 | CTG_3660 | CTG_3661 | CTG_3663 | CTG_3670 | CTG_3673 | CTG_3674 | CTG_3679 | CTG_3680 |\n",
       "|---|---|---|---|---|---|---|---|---|---|---|---|---|---|---|---|---|---|---|---|---|---|\n",
       "| A2M | 15.386 | 15.65601 | 16.38401 | 14.84999 | 15.84399 | 13.96596 | 13.74704 | 12.77808 | 14.961 | 16.10501 | ... | 14.04397 | 14.16703 | 14.633 | 14.19599 | 14.85599 | 16.511 | 16.103 | 13.30307 | 16.764 | 14.975 |\n",
       "| A8MWD9 | 18.122 | 18.84500 | 18.90100 | 19.04300 | 18.11900 | 18.30000 | 18.77900 | 18.71000 | 19.251 | 18.82300 | ... | 19.03400 | 18.22900 | 18.100 | 18.99500 | 18.63300 | 18.798 | 18.729 | 18.82300 | 18.432 | 18.730 |\n",
       "\n"
      ],
      "text/plain": [
       "       CTG_2226 CTG_2227 CTG_2228 CTG_2229 CTG_2232 CTG_2233 CTG_2234 CTG_2235\n",
       "A2M    15.386   15.65601 16.38401 14.84999 15.84399 13.96596 13.74704 12.77808\n",
       "A8MWD9 18.122   18.84500 18.90100 19.04300 18.11900 18.30000 18.77900 18.71000\n",
       "       CTG_2236 CTG_2238 ... CTG_3441 CTG_3659 CTG_3660 CTG_3661 CTG_3663\n",
       "A2M    14.961   16.10501 ... 14.04397 14.16703 14.633   14.19599 14.85599\n",
       "A8MWD9 19.251   18.82300 ... 19.03400 18.22900 18.100   18.99500 18.63300\n",
       "       CTG_3670 CTG_3673 CTG_3674 CTG_3679 CTG_3680\n",
       "A2M    16.511   16.103   13.30307 16.764   14.975  \n",
       "A8MWD9 18.798   18.729   18.82300 18.432   18.730  "
      ]
     },
     "metadata": {},
     "output_type": "display_data"
    }
   ],
   "source": [
    "# assay data\n",
    "dim(assay(data))\n",
    "head(assay(data), 2)"
   ]
  },
  {
   "cell_type": "code",
   "execution_count": 28,
   "id": "13cdae86",
   "metadata": {},
   "outputs": [
    {
     "data": {
      "text/html": [
       "<style>\n",
       ".list-inline {list-style: none; margin:0; padding: 0}\n",
       ".list-inline>li {display: inline-block}\n",
       ".list-inline>li:not(:last-child)::after {content: \"\\00b7\"; padding: 0 .5ex}\n",
       "</style>\n",
       "<ol class=list-inline><li>4688</li><li>6</li></ol>\n"
      ],
      "text/latex": [
       "\\begin{enumerate*}\n",
       "\\item 4688\n",
       "\\item 6\n",
       "\\end{enumerate*}\n"
      ],
      "text/markdown": [
       "1. 4688\n",
       "2. 6\n",
       "\n",
       "\n"
      ],
      "text/plain": [
       "[1] 4688    6"
      ]
     },
     "metadata": {},
     "output_type": "display_data"
    },
    {
     "data": {
      "text/html": [
       "<table class=\"dataframe\">\n",
       "<caption>A data.frame: 2 × 6</caption>\n",
       "<thead>\n",
       "\t<tr><th></th><th scope=col>hgnc_symbol</th><th scope=col>ProteinGroupId</th><th scope=col>ID</th><th scope=col>name</th><th scope=col>imputed</th><th scope=col>num_NAs</th></tr>\n",
       "\t<tr><th></th><th scope=col>&lt;chr&gt;</th><th scope=col>&lt;chr&gt;</th><th scope=col>&lt;chr&gt;</th><th scope=col>&lt;chr&gt;</th><th scope=col>&lt;lgl&gt;</th><th scope=col>&lt;dbl&gt;</th></tr>\n",
       "</thead>\n",
       "<tbody>\n",
       "\t<tr><th scope=row>A2M</th><td>A2M</td><td>P01023</td><td>P01023</td><td>A2M   </td><td>FALSE</td><td>0</td></tr>\n",
       "\t<tr><th scope=row>A8MWD9</th><td>NA </td><td>A8MWD9</td><td>A8MWD9</td><td>A8MWD9</td><td>FALSE</td><td>0</td></tr>\n",
       "</tbody>\n",
       "</table>\n"
      ],
      "text/latex": [
       "A data.frame: 2 × 6\n",
       "\\begin{tabular}{r|llllll}\n",
       "  & hgnc\\_symbol & ProteinGroupId & ID & name & imputed & num\\_NAs\\\\\n",
       "  & <chr> & <chr> & <chr> & <chr> & <lgl> & <dbl>\\\\\n",
       "\\hline\n",
       "\tA2M & A2M & P01023 & P01023 & A2M    & FALSE & 0\\\\\n",
       "\tA8MWD9 & NA  & A8MWD9 & A8MWD9 & A8MWD9 & FALSE & 0\\\\\n",
       "\\end{tabular}\n"
      ],
      "text/markdown": [
       "\n",
       "A data.frame: 2 × 6\n",
       "\n",
       "| <!--/--> | hgnc_symbol &lt;chr&gt; | ProteinGroupId &lt;chr&gt; | ID &lt;chr&gt; | name &lt;chr&gt; | imputed &lt;lgl&gt; | num_NAs &lt;dbl&gt; |\n",
       "|---|---|---|---|---|---|---|\n",
       "| A2M | A2M | P01023 | P01023 | A2M    | FALSE | 0 |\n",
       "| A8MWD9 | NA  | A8MWD9 | A8MWD9 | A8MWD9 | FALSE | 0 |\n",
       "\n"
      ],
      "text/plain": [
       "       hgnc_symbol ProteinGroupId ID     name   imputed num_NAs\n",
       "A2M    A2M         P01023         P01023 A2M    FALSE   0      \n",
       "A8MWD9 NA          A8MWD9         A8MWD9 A8MWD9 FALSE   0      "
      ]
     },
     "metadata": {},
     "output_type": "display_data"
    }
   ],
   "source": [
    "# row info: gene\n",
    "dim(rowData(data))\n",
    "head(as.data.frame(rowData(data)), 2)"
   ]
  },
  {
   "cell_type": "code",
   "execution_count": 29,
   "id": "179af32f",
   "metadata": {},
   "outputs": [
    {
     "data": {
      "text/html": [
       "<style>\n",
       ".list-inline {list-style: none; margin:0; padding: 0}\n",
       ".list-inline>li {display: inline-block}\n",
       ".list-inline>li:not(:last-child)::after {content: \"\\00b7\"; padding: 0 .5ex}\n",
       "</style>\n",
       "<ol class=list-inline><li>44</li><li>5</li></ol>\n"
      ],
      "text/latex": [
       "\\begin{enumerate*}\n",
       "\\item 44\n",
       "\\item 5\n",
       "\\end{enumerate*}\n"
      ],
      "text/markdown": [
       "1. 44\n",
       "2. 5\n",
       "\n",
       "\n"
      ],
      "text/plain": [
       "[1] 44  5"
      ]
     },
     "metadata": {},
     "output_type": "display_data"
    },
    {
     "data": {
      "text/html": [
       "<table class=\"dataframe\">\n",
       "<caption>A data.frame: 2 × 5</caption>\n",
       "<thead>\n",
       "\t<tr><th></th><th scope=col>ID</th><th scope=col>label</th><th scope=col>condition</th><th scope=col>replicate</th><th scope=col>Diagnosis</th></tr>\n",
       "\t<tr><th></th><th scope=col>&lt;chr&gt;</th><th scope=col>&lt;chr&gt;</th><th scope=col>&lt;fct&gt;</th><th scope=col>&lt;chr&gt;</th><th scope=col>&lt;fct&gt;</th></tr>\n",
       "</thead>\n",
       "<tbody>\n",
       "\t<tr><th scope=row>CTG_2226</th><td>CTG_2226</td><td>CTG_2226</td><td>PRETREATED</td><td>CTG_2226</td><td>REFRACTORY</td></tr>\n",
       "\t<tr><th scope=row>CTG_2227</th><td>CTG_2227</td><td>CTG_2227</td><td>PRETREATED</td><td>CTG_2227</td><td>RELAPSED  </td></tr>\n",
       "</tbody>\n",
       "</table>\n"
      ],
      "text/latex": [
       "A data.frame: 2 × 5\n",
       "\\begin{tabular}{r|lllll}\n",
       "  & ID & label & condition & replicate & Diagnosis\\\\\n",
       "  & <chr> & <chr> & <fct> & <chr> & <fct>\\\\\n",
       "\\hline\n",
       "\tCTG\\_2226 & CTG\\_2226 & CTG\\_2226 & PRETREATED & CTG\\_2226 & REFRACTORY\\\\\n",
       "\tCTG\\_2227 & CTG\\_2227 & CTG\\_2227 & PRETREATED & CTG\\_2227 & RELAPSED  \\\\\n",
       "\\end{tabular}\n"
      ],
      "text/markdown": [
       "\n",
       "A data.frame: 2 × 5\n",
       "\n",
       "| <!--/--> | ID &lt;chr&gt; | label &lt;chr&gt; | condition &lt;fct&gt; | replicate &lt;chr&gt; | Diagnosis &lt;fct&gt; |\n",
       "|---|---|---|---|---|---|\n",
       "| CTG_2226 | CTG_2226 | CTG_2226 | PRETREATED | CTG_2226 | REFRACTORY |\n",
       "| CTG_2227 | CTG_2227 | CTG_2227 | PRETREATED | CTG_2227 | RELAPSED   |\n",
       "\n"
      ],
      "text/plain": [
       "         ID       label    condition  replicate Diagnosis \n",
       "CTG_2226 CTG_2226 CTG_2226 PRETREATED CTG_2226  REFRACTORY\n",
       "CTG_2227 CTG_2227 CTG_2227 PRETREATED CTG_2227  RELAPSED  "
      ]
     },
     "metadata": {},
     "output_type": "display_data"
    }
   ],
   "source": [
    "# column info: sample\n",
    "dim(colData(data))\n",
    "head(as.data.frame(colData(data)), 2)"
   ]
  },
  {
   "cell_type": "code",
   "execution_count": 30,
   "id": "4a4ed6a4",
   "metadata": {},
   "outputs": [
    {
     "data": {
      "text/plain": [
       "\n",
       "     NAIVE PRETREATED       <NA> \n",
       "        15         29          0 "
      ]
     },
     "metadata": {},
     "output_type": "display_data"
    }
   ],
   "source": [
    "# summary of pretreated vs. naive\n",
    "table(colData(data)$condition, useNA = \"always\")"
   ]
  },
  {
   "cell_type": "markdown",
   "id": "a5f4f8e4",
   "metadata": {},
   "source": [
    "## Processing"
   ]
  },
  {
   "cell_type": "code",
   "execution_count": 31,
   "id": "c78ab187",
   "metadata": {},
   "outputs": [],
   "source": [
    "# Normalize the data\n",
    "data_norm <- normalize_vsn(data)"
   ]
  },
  {
   "cell_type": "code",
   "execution_count": 32,
   "id": "51d69386",
   "metadata": {},
   "outputs": [
    {
     "data": {
      "image/png": "[encoded data removed]",
      "text/plain": [
       "plot without title"
      ]
     },
     "metadata": {
      "image/png": {
       "height": 1200,
       "width": 480
      }
     },
     "output_type": "display_data"
    }
   ],
   "source": [
    "# Visualize normalization by boxplots for all samples before and after normalization\n",
    "options(repr.plot.width=6, repr.plot.height=15, repr.plot.res=160)\n",
    "plot_normalization(data, data_norm)"
   ]
  },
  {
   "cell_type": "markdown",
   "id": "5c70a4c7",
   "metadata": {},
   "source": [
    "## Differential protein expression\n",
    "\n",
    "Here, fold change is defined as the ratio of the difference between final value and the initial value divided by the initial value. For quantities A and B, the fold change is given as (B − A)/A."
   ]
  },
  {
   "cell_type": "code",
   "execution_count": 35,
   "id": "1ce09552",
   "metadata": {},
   "outputs": [
    {
     "data": {
      "text/html": [
       "<table class=\"dataframe\">\n",
       "<caption>A matrix: 2 × 44 of type dbl</caption>\n",
       "<thead>\n",
       "\t<tr><th></th><th scope=col>CTG_2226</th><th scope=col>CTG_2227</th><th scope=col>CTG_2228</th><th scope=col>CTG_2229</th><th scope=col>CTG_2232</th><th scope=col>CTG_2233</th><th scope=col>CTG_2234</th><th scope=col>CTG_2235</th><th scope=col>CTG_2236</th><th scope=col>CTG_2238</th><th scope=col>...</th><th scope=col>CTG_3441</th><th scope=col>CTG_3659</th><th scope=col>CTG_3660</th><th scope=col>CTG_3661</th><th scope=col>CTG_3663</th><th scope=col>CTG_3670</th><th scope=col>CTG_3673</th><th scope=col>CTG_3674</th><th scope=col>CTG_3679</th><th scope=col>CTG_3680</th></tr>\n",
       "</thead>\n",
       "<tbody>\n",
       "\t<tr><th scope=row>A2M</th><td> 42820</td><td> 51633</td><td> 85522</td><td> 29532</td><td> 58819</td><td> 16002</td><td> 13749</td><td>  7024</td><td> 31894</td><td> 70484</td><td>...</td><td> 16891</td><td> 18395</td><td> 25408</td><td> 18768</td><td> 29655</td><td> 93391</td><td> 70386</td><td> 10107</td><td>111293</td><td> 32205</td></tr>\n",
       "\t<tr><th scope=row>A8MWD9</th><td>285276</td><td>470880</td><td>489517</td><td>540150</td><td>284684</td><td>322737</td><td>449824</td><td>428816</td><td>623919</td><td>463754</td><td>...</td><td>536791</td><td>307239</td><td>280959</td><td>522474</td><td>406529</td><td>455787</td><td>434501</td><td>463754</td><td>353659</td><td>434802</td></tr>\n",
       "</tbody>\n",
       "</table>\n"
      ],
      "text/latex": [
       "A matrix: 2 × 44 of type dbl\n",
       "\\begin{tabular}{r|lllllllllllllllllllll}\n",
       "  & CTG\\_2226 & CTG\\_2227 & CTG\\_2228 & CTG\\_2229 & CTG\\_2232 & CTG\\_2233 & CTG\\_2234 & CTG\\_2235 & CTG\\_2236 & CTG\\_2238 & ... & CTG\\_3441 & CTG\\_3659 & CTG\\_3660 & CTG\\_3661 & CTG\\_3663 & CTG\\_3670 & CTG\\_3673 & CTG\\_3674 & CTG\\_3679 & CTG\\_3680\\\\\n",
       "\\hline\n",
       "\tA2M &  42820 &  51633 &  85522 &  29532 &  58819 &  16002 &  13749 &   7024 &  31894 &  70484 & ... &  16891 &  18395 &  25408 &  18768 &  29655 &  93391 &  70386 &  10107 & 111293 &  32205\\\\\n",
       "\tA8MWD9 & 285276 & 470880 & 489517 & 540150 & 284684 & 322737 & 449824 & 428816 & 623919 & 463754 & ... & 536791 & 307239 & 280959 & 522474 & 406529 & 455787 & 434501 & 463754 & 353659 & 434802\\\\\n",
       "\\end{tabular}\n"
      ],
      "text/markdown": [
       "\n",
       "A matrix: 2 × 44 of type dbl\n",
       "\n",
       "| <!--/--> | CTG_2226 | CTG_2227 | CTG_2228 | CTG_2229 | CTG_2232 | CTG_2233 | CTG_2234 | CTG_2235 | CTG_2236 | CTG_2238 | ... | CTG_3441 | CTG_3659 | CTG_3660 | CTG_3661 | CTG_3663 | CTG_3670 | CTG_3673 | CTG_3674 | CTG_3679 | CTG_3680 |\n",
       "|---|---|---|---|---|---|---|---|---|---|---|---|---|---|---|---|---|---|---|---|---|---|\n",
       "| A2M |  42820 |  51633 |  85522 |  29532 |  58819 |  16002 |  13749 |   7024 |  31894 |  70484 | ... |  16891 |  18395 |  25408 |  18768 |  29655 |  93391 |  70386 |  10107 | 111293 |  32205 |\n",
       "| A8MWD9 | 285276 | 470880 | 489517 | 540150 | 284684 | 322737 | 449824 | 428816 | 623919 | 463754 | ... | 536791 | 307239 | 280959 | 522474 | 406529 | 455787 | 434501 | 463754 | 353659 | 434802 |\n",
       "\n"
      ],
      "text/plain": [
       "       CTG_2226 CTG_2227 CTG_2228 CTG_2229 CTG_2232 CTG_2233 CTG_2234 CTG_2235\n",
       "A2M     42820    51633    85522    29532    58819    16002    13749     7024  \n",
       "A8MWD9 285276   470880   489517   540150   284684   322737   449824   428816  \n",
       "       CTG_2236 CTG_2238 ... CTG_3441 CTG_3659 CTG_3660 CTG_3661 CTG_3663\n",
       "A2M     31894    70484   ...  16891    18395    25408    18768    29655  \n",
       "A8MWD9 623919   463754   ... 536791   307239   280959   522474   406529  \n",
       "       CTG_3670 CTG_3673 CTG_3674 CTG_3679 CTG_3680\n",
       "A2M     93391    70386    10107   111293    32205  \n",
       "A8MWD9 455787   434501   463754   353659   434802  "
      ]
     },
     "metadata": {},
     "output_type": "display_data"
    },
    {
     "name": "stderr",
     "output_type": "stream",
     "text": [
      "renaming the first element in assays to 'counts'\n",
      "\n",
      "converting counts to integer mode\n",
      "\n"
     ]
    },
    {
     "ename": "ERROR",
     "evalue": "Error in DESeqDataSet(se, design = ~condition + Diagnosis): variables in design formula cannot contain NA: Diagnosis\n",
     "output_type": "error",
     "traceback": [
      "Error in DESeqDataSet(se, design = ~condition + Diagnosis): variables in design formula cannot contain NA: Diagnosis\nTraceback:\n",
      "1. DESeqDataSet(se, design = ~condition + Diagnosis)",
      "2. stop(paste(\"variables in design formula cannot contain NA:\", \n .     v))"
     ]
    }
   ],
   "source": [
    "se  <- data\n",
    "assay(se) <- round(2^assay(se)) # deseq2 uses counts instead of log2(counts)\n",
    "head(assay(se), 2)\n",
    "dds <- DESeqDataSet(se, design = ~ condition + Diagnosis)\n",
    "dds <- DESeq(dds)\n",
    "dds"
   ]
  }
 ],
 "metadata": {
  "kernelspec": {
   "display_name": "R",
   "language": "R",
   "name": "ir"
  },
  "language_info": {
   "codemirror_mode": "r",
   "file_extension": ".r",
   "mimetype": "text/x-r-source",
   "name": "R",
   "pygments_lexer": "r",
   "version": "4.1.2"
  }
 },
 "nbformat": 4,
 "nbformat_minor": 5
}
